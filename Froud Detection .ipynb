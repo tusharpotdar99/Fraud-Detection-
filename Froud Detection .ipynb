{
 "cells": [
  {
   "cell_type": "markdown",
   "id": "22cefa24",
   "metadata": {},
   "source": [
    "### Data Preprocessing"
   ]
  },
  {
   "cell_type": "markdown",
   "id": "f89b8fb1",
   "metadata": {},
   "source": [
    "#### Import Dependencies and Libraries "
   ]
  },
  {
   "cell_type": "code",
   "execution_count": 146,
   "id": "9076e137",
   "metadata": {
    "ExecuteTime": {
     "end_time": "2024-02-21T14:37:03.974655Z",
     "start_time": "2024-02-21T14:37:03.955934Z"
    }
   },
   "outputs": [],
   "source": [
    "import numpy as np\n",
    "import pandas as pd\n",
    "import matplotlib.pyplot as plt\n",
    "import seaborn as sns\n",
    "import plotly.express as px\n",
    "import warnings\n",
    "warnings.filterwarnings('ignore')\n",
    "import math\n",
    "from sklearn.preprocessing import StandardScaler\n",
    "from sklearn.model_selection import train_test_split\n",
    "from sklearn.metrics import classification_report,confusion_matrix,accuracy_score,f1_score,precision_score,recall_score,auc,average_precision_score,roc_auc_score,roc_curve,r2_score,f1_score,precision_recall_curve"
   ]
  },
  {
   "cell_type": "code",
   "execution_count": 2,
   "id": "0a36bcb9",
   "metadata": {
    "ExecuteTime": {
     "end_time": "2024-02-21T11:14:05.126510Z",
     "start_time": "2024-02-21T11:13:51.934889Z"
    }
   },
   "outputs": [
    {
     "data": {
      "text/html": [
       "<div>\n",
       "<style scoped>\n",
       "    .dataframe tbody tr th:only-of-type {\n",
       "        vertical-align: middle;\n",
       "    }\n",
       "\n",
       "    .dataframe tbody tr th {\n",
       "        vertical-align: top;\n",
       "    }\n",
       "\n",
       "    .dataframe thead th {\n",
       "        text-align: right;\n",
       "    }\n",
       "</style>\n",
       "<table border=\"1\" class=\"dataframe\">\n",
       "  <thead>\n",
       "    <tr style=\"text-align: right;\">\n",
       "      <th></th>\n",
       "      <th>step</th>\n",
       "      <th>type</th>\n",
       "      <th>amount</th>\n",
       "      <th>nameOrig</th>\n",
       "      <th>oldbalanceOrg</th>\n",
       "      <th>newbalanceOrig</th>\n",
       "      <th>nameDest</th>\n",
       "      <th>oldbalanceDest</th>\n",
       "      <th>newbalanceDest</th>\n",
       "      <th>isFraud</th>\n",
       "      <th>isFlaggedFraud</th>\n",
       "    </tr>\n",
       "  </thead>\n",
       "  <tbody>\n",
       "    <tr>\n",
       "      <th>0</th>\n",
       "      <td>1</td>\n",
       "      <td>PAYMENT</td>\n",
       "      <td>9839.64</td>\n",
       "      <td>C1231006815</td>\n",
       "      <td>170136.0</td>\n",
       "      <td>160296.36</td>\n",
       "      <td>M1979787155</td>\n",
       "      <td>0.0</td>\n",
       "      <td>0.0</td>\n",
       "      <td>0</td>\n",
       "      <td>0</td>\n",
       "    </tr>\n",
       "    <tr>\n",
       "      <th>1</th>\n",
       "      <td>1</td>\n",
       "      <td>PAYMENT</td>\n",
       "      <td>1864.28</td>\n",
       "      <td>C1666544295</td>\n",
       "      <td>21249.0</td>\n",
       "      <td>19384.72</td>\n",
       "      <td>M2044282225</td>\n",
       "      <td>0.0</td>\n",
       "      <td>0.0</td>\n",
       "      <td>0</td>\n",
       "      <td>0</td>\n",
       "    </tr>\n",
       "    <tr>\n",
       "      <th>2</th>\n",
       "      <td>1</td>\n",
       "      <td>TRANSFER</td>\n",
       "      <td>181.00</td>\n",
       "      <td>C1305486145</td>\n",
       "      <td>181.0</td>\n",
       "      <td>0.00</td>\n",
       "      <td>C553264065</td>\n",
       "      <td>0.0</td>\n",
       "      <td>0.0</td>\n",
       "      <td>1</td>\n",
       "      <td>0</td>\n",
       "    </tr>\n",
       "    <tr>\n",
       "      <th>3</th>\n",
       "      <td>1</td>\n",
       "      <td>CASH_OUT</td>\n",
       "      <td>181.00</td>\n",
       "      <td>C840083671</td>\n",
       "      <td>181.0</td>\n",
       "      <td>0.00</td>\n",
       "      <td>C38997010</td>\n",
       "      <td>21182.0</td>\n",
       "      <td>0.0</td>\n",
       "      <td>1</td>\n",
       "      <td>0</td>\n",
       "    </tr>\n",
       "    <tr>\n",
       "      <th>4</th>\n",
       "      <td>1</td>\n",
       "      <td>PAYMENT</td>\n",
       "      <td>11668.14</td>\n",
       "      <td>C2048537720</td>\n",
       "      <td>41554.0</td>\n",
       "      <td>29885.86</td>\n",
       "      <td>M1230701703</td>\n",
       "      <td>0.0</td>\n",
       "      <td>0.0</td>\n",
       "      <td>0</td>\n",
       "      <td>0</td>\n",
       "    </tr>\n",
       "  </tbody>\n",
       "</table>\n",
       "</div>"
      ],
      "text/plain": [
       "   step      type    amount     nameOrig  oldbalanceOrg  newbalanceOrig  \\\n",
       "0     1   PAYMENT   9839.64  C1231006815       170136.0       160296.36   \n",
       "1     1   PAYMENT   1864.28  C1666544295        21249.0        19384.72   \n",
       "2     1  TRANSFER    181.00  C1305486145          181.0            0.00   \n",
       "3     1  CASH_OUT    181.00   C840083671          181.0            0.00   \n",
       "4     1   PAYMENT  11668.14  C2048537720        41554.0        29885.86   \n",
       "\n",
       "      nameDest  oldbalanceDest  newbalanceDest  isFraud  isFlaggedFraud  \n",
       "0  M1979787155             0.0             0.0        0               0  \n",
       "1  M2044282225             0.0             0.0        0               0  \n",
       "2   C553264065             0.0             0.0        1               0  \n",
       "3    C38997010         21182.0             0.0        1               0  \n",
       "4  M1230701703             0.0             0.0        0               0  "
      ]
     },
     "execution_count": 2,
     "metadata": {},
     "output_type": "execute_result"
    }
   ],
   "source": [
    "df = pd.read_csv('Fraud.csv')\n",
    "df.head(5)"
   ]
  },
  {
   "cell_type": "markdown",
   "id": "bb8ccf33",
   "metadata": {},
   "source": [
    "Information about total size and shape of The Dataset "
   ]
  },
  {
   "cell_type": "code",
   "execution_count": 3,
   "id": "9ac23940",
   "metadata": {
    "ExecuteTime": {
     "end_time": "2024-02-21T11:14:07.078915Z",
     "start_time": "2024-02-21T11:14:07.063033Z"
    }
   },
   "outputs": [
    {
     "name": "stdout",
     "output_type": "stream",
     "text": [
      "Shape of The Dataset :  (6362620, 11)\n",
      "Total number of Datapoints :  6362620\n",
      "Total number of Features   :  11\n"
     ]
    }
   ],
   "source": [
    "print('Shape of The Dataset : ',df.shape)\n",
    "print('Total number of Datapoints : ',df.shape[0])\n",
    "print('Total number of Features   : ',df.shape[1])"
   ]
  },
  {
   "cell_type": "code",
   "execution_count": 4,
   "id": "4b5d3721",
   "metadata": {
    "ExecuteTime": {
     "end_time": "2024-02-21T11:14:08.079447Z",
     "start_time": "2024-02-21T11:14:08.051831Z"
    }
   },
   "outputs": [
    {
     "name": "stdout",
     "output_type": "stream",
     "text": [
      "<class 'pandas.core.frame.DataFrame'>\n",
      "RangeIndex: 6362620 entries, 0 to 6362619\n",
      "Data columns (total 11 columns):\n",
      " #   Column          Dtype  \n",
      "---  ------          -----  \n",
      " 0   step            int64  \n",
      " 1   type            object \n",
      " 2   amount          float64\n",
      " 3   nameOrig        object \n",
      " 4   oldbalanceOrg   float64\n",
      " 5   newbalanceOrig  float64\n",
      " 6   nameDest        object \n",
      " 7   oldbalanceDest  float64\n",
      " 8   newbalanceDest  float64\n",
      " 9   isFraud         int64  \n",
      " 10  isFlaggedFraud  int64  \n",
      "dtypes: float64(5), int64(3), object(3)\n",
      "memory usage: 534.0+ MB\n"
     ]
    }
   ],
   "source": [
    "df.info()"
   ]
  },
  {
   "cell_type": "markdown",
   "id": "61a9de2e",
   "metadata": {},
   "source": [
    "Check if there is any null value present in the dataset"
   ]
  },
  {
   "cell_type": "code",
   "execution_count": 5,
   "id": "19d352a0",
   "metadata": {
    "ExecuteTime": {
     "end_time": "2024-02-21T11:14:12.781286Z",
     "start_time": "2024-02-21T11:14:09.755757Z"
    }
   },
   "outputs": [
    {
     "data": {
      "text/plain": [
       "step              0\n",
       "type              0\n",
       "amount            0\n",
       "nameOrig          0\n",
       "oldbalanceOrg     0\n",
       "newbalanceOrig    0\n",
       "nameDest          0\n",
       "oldbalanceDest    0\n",
       "newbalanceDest    0\n",
       "isFraud           0\n",
       "isFlaggedFraud    0\n",
       "dtype: int64"
      ]
     },
     "execution_count": 5,
     "metadata": {},
     "output_type": "execute_result"
    }
   ],
   "source": [
    "df.isnull().sum()"
   ]
  },
  {
   "cell_type": "markdown",
   "id": "f66551ad",
   "metadata": {},
   "source": [
    "check if there duplicate data points are present"
   ]
  },
  {
   "cell_type": "code",
   "execution_count": 6,
   "id": "61491a5b",
   "metadata": {
    "ExecuteTime": {
     "end_time": "2024-02-21T11:14:31.784459Z",
     "start_time": "2024-02-21T11:14:14.179722Z"
    }
   },
   "outputs": [
    {
     "data": {
      "text/plain": [
       "0"
      ]
     },
     "execution_count": 6,
     "metadata": {},
     "output_type": "execute_result"
    }
   ],
   "source": [
    "df.duplicated().sum()"
   ]
  },
  {
   "cell_type": "markdown",
   "id": "9e06c22e",
   "metadata": {},
   "source": [
    "### Exploratory Data Analysis"
   ]
  },
  {
   "cell_type": "markdown",
   "id": "f601142d",
   "metadata": {},
   "source": [
    "Creating The Loop through each column to fetch the name along the column with number of unique categories present in the column "
   ]
  },
  {
   "cell_type": "code",
   "execution_count": 7,
   "id": "9a56f4dc",
   "metadata": {
    "ExecuteTime": {
     "end_time": "2024-02-21T11:14:44.670888Z",
     "start_time": "2024-02-21T11:14:33.733667Z"
    }
   },
   "outputs": [
    {
     "name": "stdout",
     "output_type": "stream",
     "text": [
      "1. step\n",
      "Number of Unique Categories : 743\n",
      "\n",
      "2. type\n",
      "Number of Unique Categories : 5\n",
      "\n",
      "3. amount\n",
      "Number of Unique Categories : 5316900\n",
      "\n",
      "4. nameOrig\n",
      "Number of Unique Categories : 6353307\n",
      "\n",
      "5. oldbalanceOrg\n",
      "Number of Unique Categories : 1845844\n",
      "\n",
      "6. newbalanceOrig\n",
      "Number of Unique Categories : 2682586\n",
      "\n",
      "7. nameDest\n",
      "Number of Unique Categories : 2722362\n",
      "\n",
      "8. oldbalanceDest\n",
      "Number of Unique Categories : 3614697\n",
      "\n",
      "9. newbalanceDest\n",
      "Number of Unique Categories : 3555499\n",
      "\n",
      "10. isFraud\n",
      "Number of Unique Categories : 2\n",
      "\n",
      "11. isFlaggedFraud\n",
      "Number of Unique Categories : 2\n",
      "\n"
     ]
    }
   ],
   "source": [
    "count = 0\n",
    "for i in df.columns:\n",
    "    count += 1\n",
    "    print(f'{count}. {i}\\nNumber of Unique Categories : {df[i].nunique()}\\n')"
   ]
  },
  {
   "cell_type": "markdown",
   "id": "a99ff5ec",
   "metadata": {},
   "source": [
    "Getting The unique Categories Present in the column from the Categorical columns and print them."
   ]
  },
  {
   "cell_type": "code",
   "execution_count": 8,
   "id": "bea0a912",
   "metadata": {
    "ExecuteTime": {
     "end_time": "2024-02-21T11:14:53.893724Z",
     "start_time": "2024-02-21T11:14:47.660371Z"
    }
   },
   "outputs": [
    {
     "name": "stdout",
     "output_type": "stream",
     "text": [
      "type\n",
      "Unique Categories : ['PAYMENT' 'TRANSFER' 'CASH_OUT' 'DEBIT' 'CASH_IN']\n",
      "\n",
      "nameOrig\n",
      "Unique Categories : ['C1231006815' 'C1666544295' 'C1305486145' ... 'C1162922333' 'C1685995037'\n",
      " 'C1280323807']\n",
      "\n",
      "nameDest\n",
      "Unique Categories : ['M1979787155' 'M2044282225' 'C553264065' ... 'C1850423904' 'C1881841831'\n",
      " 'C2080388513']\n",
      "\n"
     ]
    }
   ],
   "source": [
    "for i in df.columns:\n",
    "    if df[i].dtype == 'O':\n",
    "        print(f'{i}\\nUnique Categories : {df[i].unique()}\\n')"
   ]
  },
  {
   "cell_type": "markdown",
   "id": "18817b71",
   "metadata": {},
   "source": [
    "Distribution of Transaction types in percentage and plotting the pieplot for it "
   ]
  },
  {
   "cell_type": "code",
   "execution_count": 12,
   "id": "0b45ef22",
   "metadata": {
    "ExecuteTime": {
     "end_time": "2024-02-21T11:15:46.441166Z",
     "start_time": "2024-02-21T11:15:45.881199Z"
    },
    "scrolled": true
   },
   "outputs": [
    {
     "data": {
      "image/png": "[encoded data removed]",
      "text/plain": [
       "<Figure size 800x600 with 1 Axes>"
      ]
     },
     "metadata": {},
     "output_type": "display_data"
    }
   ],
   "source": [
    "type_value_counts = df['type'].value_counts()\n",
    "plt.figure(figsize=(8, 6))\n",
    "plt.pie(type_value_counts.values, labels=type_value_counts.index, autopct='%1.1f%%', startangle=90)\n",
    "plt.title('Transaction Types Distribution')\n",
    "plt.axis('equal')\n",
    "plt.show()"
   ]
  },
  {
   "cell_type": "markdown",
   "id": "aa97954c",
   "metadata": {},
   "source": [
    "Checking The Categories Percentage for Target colummn"
   ]
  },
  {
   "cell_type": "code",
   "execution_count": 13,
   "id": "d8810a23",
   "metadata": {
    "ExecuteTime": {
     "end_time": "2024-02-21T11:15:48.664117Z",
     "start_time": "2024-02-21T11:15:48.612182Z"
    }
   },
   "outputs": [
    {
     "data": {
      "text/plain": [
       "0    6354407\n",
       "1       8213\n",
       "Name: isFraud, dtype: int64"
      ]
     },
     "execution_count": 13,
     "metadata": {},
     "output_type": "execute_result"
    }
   ],
   "source": [
    "froud = df['isFraud'].value_counts()\n",
    "froud"
   ]
  },
  {
   "cell_type": "code",
   "execution_count": 14,
   "id": "43212aa1",
   "metadata": {
    "ExecuteTime": {
     "end_time": "2024-02-21T11:15:50.809576Z",
     "start_time": "2024-02-21T11:15:50.683821Z"
    }
   },
   "outputs": [
    {
     "data": {
      "image/png": "[encoded data removed]",
      "text/plain": [
       "<Figure size 800x800 with 1 Axes>"
      ]
     },
     "metadata": {},
     "output_type": "display_data"
    }
   ],
   "source": [
    "fraud = df['isFraud'].value_counts()\n",
    "\n",
    "plt.figure(figsize=(8, 8))\n",
    "plt.pie(fraud.values, labels=fraud.index, autopct='%1.1f%%', startangle=90)\n",
    "plt.title('Fraud or Genuine')\n",
    "plt.axis('equal')\n",
    "plt.show()"
   ]
  },
  {
   "cell_type": "markdown",
   "id": "fd6ef0d9",
   "metadata": {},
   "source": [
    "Pieplot shows that almost 99.9% values are not fraud and only 0.1% values are fraud , which is due to the imbalanced dataset "
   ]
  },
  {
   "cell_type": "markdown",
   "id": "a16410ab",
   "metadata": {},
   "source": [
    "Counting The Values By Step column"
   ]
  },
  {
   "cell_type": "code",
   "execution_count": 15,
   "id": "42f53519",
   "metadata": {
    "ExecuteTime": {
     "end_time": "2024-02-21T11:15:52.731957Z",
     "start_time": "2024-02-21T11:15:52.684547Z"
    }
   },
   "outputs": [],
   "source": [
    "steps = df['step'].value_counts()"
   ]
  },
  {
   "cell_type": "code",
   "execution_count": 16,
   "id": "7a913047",
   "metadata": {
    "ExecuteTime": {
     "end_time": "2024-02-21T11:16:00.184106Z",
     "start_time": "2024-02-21T11:15:53.810494Z"
    }
   },
   "outputs": [
    {
     "data": {
      "image/png": "[encoded data removed]",
      "text/plain": [
       "<Figure size 1000x600 with 1 Axes>"
      ]
     },
     "metadata": {},
     "output_type": "display_data"
    }
   ],
   "source": [
    "plt.figure(figsize=(10, 6)) \n",
    "sns.barplot(x=steps.index, y=steps.values )\n",
    "\n",
    "plt.title('Value Counts By Steps')\n",
    "plt.xlabel('Steps')\n",
    "plt.ylabel('Counts')\n",
    "\n",
    "plt.show()"
   ]
  },
  {
   "cell_type": "markdown",
   "id": "56fe740f",
   "metadata": {},
   "source": [
    "we have seen That approximately 150 to 400 in steps covered majority of the datapoints in dataset. "
   ]
  },
  {
   "cell_type": "markdown",
   "id": "3ceaf9dc",
   "metadata": {},
   "source": [
    "creating new feature from step column to better understand the transaction happens on which day"
   ]
  },
  {
   "cell_type": "code",
   "execution_count": 17,
   "id": "a1083346",
   "metadata": {
    "ExecuteTime": {
     "end_time": "2024-02-21T11:16:10.146789Z",
     "start_time": "2024-02-21T11:16:07.538177Z"
    }
   },
   "outputs": [],
   "source": [
    "df['Day'] = df['step'].apply(lambda x: math.ceil(x / 24))"
   ]
  },
  {
   "cell_type": "code",
   "execution_count": 18,
   "id": "c3b60c3d",
   "metadata": {
    "ExecuteTime": {
     "end_time": "2024-02-21T11:16:12.487135Z",
     "start_time": "2024-02-21T11:16:12.203647Z"
    }
   },
   "outputs": [
    {
     "data": {
      "image/png": "[encoded data removed]",
      "text/plain": [
       "<Figure size 1000x600 with 1 Axes>"
      ]
     },
     "metadata": {},
     "output_type": "display_data"
    }
   ],
   "source": [
    "days = df['Day'].value_counts()\n",
    "plt.figure(figsize=(10, 6))  \n",
    "sns.barplot(x=days.index, y=days.values)\n",
    "\n",
    "plt.title('Value Counts By Days')\n",
    "plt.xlabel('Days')\n",
    "plt.ylabel('Counts')\n",
    "\n",
    "# Show plot\n",
    "plt.show()"
   ]
  },
  {
   "cell_type": "markdown",
   "id": "37cdcf6a",
   "metadata": {},
   "source": [
    "Creating two columns from the transaction originator and destination, where the variables \"C\" represent Customers and \"M\" represent Merchants, can provide impactful information for detecting fraudulent transactions. This information allows us to track transactions made between customers and merchants, aiding in fraud detection."
   ]
  },
  {
   "cell_type": "code",
   "execution_count": 19,
   "id": "3d85ca4d",
   "metadata": {
    "ExecuteTime": {
     "end_time": "2024-02-21T11:16:23.469449Z",
     "start_time": "2024-02-21T11:16:14.664318Z"
    }
   },
   "outputs": [],
   "source": [
    "df['AccTypeOrig'] = df['nameOrig'].str[0].str.replace('C','customer')\n",
    "df['AccTypeDest'] = df['nameDest'].str[0].replace({'C':'customer','M':'merchant'})"
   ]
  },
  {
   "cell_type": "markdown",
   "id": "7ffba8da",
   "metadata": {},
   "source": [
    "we have five types of transactions, where fraud occurs in two of them. the first is 'Transfer' and another is 'Cash_out'"
   ]
  },
  {
   "cell_type": "markdown",
   "id": "09c0c670",
   "metadata": {},
   "source": [
    "We have seen that the number of fraudulent transaction in TRANSFER and CASH_OUT"
   ]
  },
  {
   "cell_type": "code",
   "execution_count": 20,
   "id": "b01944cb",
   "metadata": {
    "ExecuteTime": {
     "end_time": "2024-02-21T11:16:34.771752Z",
     "start_time": "2024-02-21T11:16:27.248293Z"
    }
   },
   "outputs": [
    {
     "name": "stdout",
     "output_type": "stream",
     "text": [
      "\n",
      "PAYMENT\n",
      "0    2151495\n",
      "Name: isFraud, dtype: int64\n",
      "\n",
      "TRANSFER\n",
      "0    528812\n",
      "1      4097\n",
      "Name: isFraud, dtype: int64\n",
      "\n",
      "CASH_OUT\n",
      "0    2233384\n",
      "1       4116\n",
      "Name: isFraud, dtype: int64\n",
      "\n",
      "DEBIT\n",
      "0    41432\n",
      "Name: isFraud, dtype: int64\n",
      "\n",
      "CASH_IN\n",
      "0    1399284\n",
      "Name: isFraud, dtype: int64\n"
     ]
    }
   ],
   "source": [
    "for category in df['type'].unique():\n",
    "    print(f\"\\n{category}\\n{df[df['type'] == category]['isFraud'].value_counts()}\")"
   ]
  },
  {
   "cell_type": "markdown",
   "id": "9050c743",
   "metadata": {},
   "source": [
    "The 'isFlaggedFraud' is do not correlate with any other variable. this set to be as the transcation amount when greater than 200000 then it gives 1. and it gives almost 16 entries only and all are in transfer column ."
   ]
  },
  {
   "cell_type": "code",
   "execution_count": 21,
   "id": "3dc87730",
   "metadata": {
    "ExecuteTime": {
     "end_time": "2024-02-21T11:16:51.253319Z",
     "start_time": "2024-02-21T11:16:47.090447Z"
    }
   },
   "outputs": [
    {
     "name": "stdout",
     "output_type": "stream",
     "text": [
      "\n",
      "PAYMENT\n",
      "0    2151495\n",
      "Name: isFlaggedFraud, dtype: int64\n",
      "\n",
      "TRANSFER\n",
      "0    532893\n",
      "1        16\n",
      "Name: isFlaggedFraud, dtype: int64\n",
      "\n",
      "CASH_OUT\n",
      "0    2237500\n",
      "Name: isFlaggedFraud, dtype: int64\n",
      "\n",
      "DEBIT\n",
      "0    41432\n",
      "Name: isFlaggedFraud, dtype: int64\n",
      "\n",
      "CASH_IN\n",
      "0    1399284\n",
      "Name: isFlaggedFraud, dtype: int64\n"
     ]
    }
   ],
   "source": [
    "for category in df['type'].unique():\n",
    "    print(f\"\\n{category}\\n{df[df['type'] == category]['isFlaggedFraud'].value_counts()}\")"
   ]
  },
  {
   "cell_type": "markdown",
   "id": "d95d792f",
   "metadata": {},
   "source": [
    "new feature with combining two variables Account Type of Originator correspoinding to Destination account type for checking from which type of entity to which type of entity the frodulent transaction made. "
   ]
  },
  {
   "cell_type": "code",
   "execution_count": 22,
   "id": "2ded6ac1",
   "metadata": {
    "ExecuteTime": {
     "end_time": "2024-02-21T11:16:54.754776Z",
     "start_time": "2024-02-21T11:16:52.850574Z"
    }
   },
   "outputs": [],
   "source": [
    "df['TypeTrans'] = df['AccTypeOrig'] + '-' + df['AccTypeDest']"
   ]
  },
  {
   "cell_type": "markdown",
   "id": "78b153dd",
   "metadata": {},
   "source": [
    "From this Information We Get that There is no Merchants among any originator accounts, merchants are only present in destination accounts for all payments"
   ]
  },
  {
   "cell_type": "code",
   "execution_count": 23,
   "id": "bc3ac5c9",
   "metadata": {
    "ExecuteTime": {
     "end_time": "2024-02-21T11:17:00.988615Z",
     "start_time": "2024-02-21T11:16:56.181311Z"
    },
    "scrolled": true
   },
   "outputs": [
    {
     "name": "stdout",
     "output_type": "stream",
     "text": [
      "\n",
      "customer-merchant\n",
      "0    2151495\n",
      "Name: isFraud, dtype: int64\n",
      "\n",
      "customer-customer\n",
      "0    4202912\n",
      "1       8213\n",
      "Name: isFraud, dtype: int64\n"
     ]
    }
   ],
   "source": [
    "for category in df['TypeTrans'].unique():\n",
    "    print(f\"\\n{category}\\n{df[df['TypeTrans'] == category]['isFraud'].value_counts()}\")"
   ]
  },
  {
   "cell_type": "code",
   "execution_count": 24,
   "id": "c19baa04",
   "metadata": {
    "ExecuteTime": {
     "end_time": "2024-02-21T11:17:07.173145Z",
     "start_time": "2024-02-21T11:17:02.893987Z"
    }
   },
   "outputs": [
    {
     "name": "stdout",
     "output_type": "stream",
     "text": [
      "Maximum amount of transaction detected not fraud :  92445516.64\n",
      "Average amount of transaction detected not fraud :  178197.04172739814\n",
      "Minimum amount of transaction detected not fraud :  0.01\n"
     ]
    }
   ],
   "source": [
    "print('Maximum amount of transaction detected not fraud : ', df[df['isFraud'] == 0]['amount'].max())\n",
    "print('Average amount of transaction detected not fraud : ',df[df['isFraud'] == 0]['amount'].mean())\n",
    "print('Minimum amount of transaction detected not fraud : ',df[df['isFraud'] == 0]['amount'].min())"
   ]
  },
  {
   "cell_type": "code",
   "execution_count": 25,
   "id": "2ea8974b",
   "metadata": {
    "ExecuteTime": {
     "end_time": "2024-02-21T11:17:07.995048Z",
     "start_time": "2024-02-21T11:17:07.932342Z"
    }
   },
   "outputs": [
    {
     "name": "stdout",
     "output_type": "stream",
     "text": [
      "Maximum amount of transaction detected fraud :  10000000.0\n",
      "Average amount of transaction detected fraud :  1467967.299140387\n",
      "Minimum amount of transaction detected fraud :  0.0\n"
     ]
    }
   ],
   "source": [
    "print('Maximum amount of transaction detected fraud : ', df[df['isFraud'] == 1]['amount'].max())\n",
    "print('Average amount of transaction detected fraud : ',df[df['isFraud'] == 1]['amount'].mean())\n",
    "print('Minimum amount of transaction detected fraud : ',df[df['isFraud'] == 1]['amount'].min())"
   ]
  },
  {
   "cell_type": "markdown",
   "id": "da1b01a9",
   "metadata": {},
   "source": [
    "### Feature Engineering and Transformation "
   ]
  },
  {
   "cell_type": "code",
   "execution_count": 26,
   "id": "0f6902df",
   "metadata": {
    "ExecuteTime": {
     "end_time": "2024-02-21T11:17:12.091171Z",
     "start_time": "2024-02-21T11:17:09.797524Z"
    }
   },
   "outputs": [
    {
     "name": "stdout",
     "output_type": "stream",
     "text": [
      "percentage of transaction being fraud when old balance of destinatin account and new balance of destination account is 0 : \n",
      "0.4955558261293072\n",
      "percentage of transaction being not fraud when old balance of destinatin account and new balance of destination account is 0 : \n",
      "0.36403176567065976\n"
     ]
    }
   ],
   "source": [
    "fraud = df.loc[df['isFraud'] == 1]\n",
    "nonFraud = df.loc[df['isFraud'] == 0]\n",
    "\n",
    "print( \"percentage of transaction being fraud when old balance of destinatin account and new balance of destination account is 0 : \")\n",
    "print((len(fraud.loc[(fraud['oldbalanceDest'] == 0) & (fraud['newbalanceDest'] == 0) & (fraud['amount'])]) / (1.0 * len(fraud))))\n",
    "\n",
    "print( \"percentage of transaction being not fraud when old balance of destinatin account and new balance of destination account is 0 : \")\n",
    "print((len(nonFraud.loc[(nonFraud['oldbalanceDest'] == 0) & (nonFraud['newbalanceDest'] == 0) & (nonFraud['amount'])]) / (1.0 * len(nonFraud))))"
   ]
  },
  {
   "cell_type": "markdown",
   "id": "27b2c0ca",
   "metadata": {},
   "source": [
    "it is seen that, there is almost 50% chance to be a transaction being fraud when old balance of destination account and new balance of destination account is 0"
   ]
  },
  {
   "cell_type": "code",
   "execution_count": 27,
   "id": "bc5ce12f",
   "metadata": {
    "ExecuteTime": {
     "end_time": "2024-02-21T11:17:17.990887Z",
     "start_time": "2024-02-21T11:17:17.850545Z"
    }
   },
   "outputs": [],
   "source": [
    "df['error_balance_orig'] = df['newbalanceOrig'] + df['amount'] - df['oldbalanceOrg']\n",
    "df['error_Balance_Dest'] = df['oldbalanceDest'] + df['amount'] - df['newbalanceDest']"
   ]
  },
  {
   "cell_type": "markdown",
   "id": "b9d5285b",
   "metadata": {},
   "source": [
    "### Data Cleaning"
   ]
  },
  {
   "cell_type": "code",
   "execution_count": 28,
   "id": "8b1bc5ed",
   "metadata": {
    "ExecuteTime": {
     "end_time": "2024-02-21T11:17:21.698452Z",
     "start_time": "2024-02-21T11:17:19.406178Z"
    }
   },
   "outputs": [],
   "source": [
    "df.drop(columns = ['nameOrig','nameDest','TypeTrans'],inplace=True)"
   ]
  },
  {
   "cell_type": "markdown",
   "id": "024aee44",
   "metadata": {},
   "source": [
    "Drop the Unnesessory factors/features and arange the Dataframe with better order and manner"
   ]
  },
  {
   "cell_type": "code",
   "execution_count": 29,
   "id": "d6379dd8",
   "metadata": {
    "ExecuteTime": {
     "end_time": "2024-02-21T11:17:24.712865Z",
     "start_time": "2024-02-21T11:17:23.644180Z"
    }
   },
   "outputs": [],
   "source": [
    "df = df[['step','type','amount','AccTypeOrig','AccTypeDest','oldbalanceOrg','newbalanceOrig','oldbalanceDest','newbalanceDest','error_balance_orig','error_Balance_Dest','isFraud']]"
   ]
  },
  {
   "cell_type": "code",
   "execution_count": 30,
   "id": "b6da3127",
   "metadata": {
    "ExecuteTime": {
     "end_time": "2024-02-21T11:17:25.908099Z",
     "start_time": "2024-02-21T11:17:25.761626Z"
    }
   },
   "outputs": [
    {
     "data": {
      "text/html": [
       "<div>\n",
       "<style scoped>\n",
       "    .dataframe tbody tr th:only-of-type {\n",
       "        vertical-align: middle;\n",
       "    }\n",
       "\n",
       "    .dataframe tbody tr th {\n",
       "        vertical-align: top;\n",
       "    }\n",
       "\n",
       "    .dataframe thead th {\n",
       "        text-align: right;\n",
       "    }\n",
       "</style>\n",
       "<table border=\"1\" class=\"dataframe\">\n",
       "  <thead>\n",
       "    <tr style=\"text-align: right;\">\n",
       "      <th></th>\n",
       "      <th>step</th>\n",
       "      <th>type</th>\n",
       "      <th>amount</th>\n",
       "      <th>AccTypeOrig</th>\n",
       "      <th>AccTypeDest</th>\n",
       "      <th>oldbalanceOrg</th>\n",
       "      <th>newbalanceOrig</th>\n",
       "      <th>oldbalanceDest</th>\n",
       "      <th>newbalanceDest</th>\n",
       "      <th>error_balance_orig</th>\n",
       "      <th>error_Balance_Dest</th>\n",
       "      <th>isFraud</th>\n",
       "    </tr>\n",
       "  </thead>\n",
       "  <tbody>\n",
       "    <tr>\n",
       "      <th>0</th>\n",
       "      <td>1</td>\n",
       "      <td>PAYMENT</td>\n",
       "      <td>9839.64</td>\n",
       "      <td>customer</td>\n",
       "      <td>merchant</td>\n",
       "      <td>170136.0</td>\n",
       "      <td>160296.36</td>\n",
       "      <td>0.0</td>\n",
       "      <td>0.0</td>\n",
       "      <td>0.0</td>\n",
       "      <td>9839.64</td>\n",
       "      <td>0</td>\n",
       "    </tr>\n",
       "    <tr>\n",
       "      <th>1</th>\n",
       "      <td>1</td>\n",
       "      <td>PAYMENT</td>\n",
       "      <td>1864.28</td>\n",
       "      <td>customer</td>\n",
       "      <td>merchant</td>\n",
       "      <td>21249.0</td>\n",
       "      <td>19384.72</td>\n",
       "      <td>0.0</td>\n",
       "      <td>0.0</td>\n",
       "      <td>0.0</td>\n",
       "      <td>1864.28</td>\n",
       "      <td>0</td>\n",
       "    </tr>\n",
       "    <tr>\n",
       "      <th>2</th>\n",
       "      <td>1</td>\n",
       "      <td>TRANSFER</td>\n",
       "      <td>181.00</td>\n",
       "      <td>customer</td>\n",
       "      <td>customer</td>\n",
       "      <td>181.0</td>\n",
       "      <td>0.00</td>\n",
       "      <td>0.0</td>\n",
       "      <td>0.0</td>\n",
       "      <td>0.0</td>\n",
       "      <td>181.00</td>\n",
       "      <td>1</td>\n",
       "    </tr>\n",
       "  </tbody>\n",
       "</table>\n",
       "</div>"
      ],
      "text/plain": [
       "   step      type   amount AccTypeOrig AccTypeDest  oldbalanceOrg  \\\n",
       "0     1   PAYMENT  9839.64    customer    merchant       170136.0   \n",
       "1     1   PAYMENT  1864.28    customer    merchant        21249.0   \n",
       "2     1  TRANSFER   181.00    customer    customer          181.0   \n",
       "\n",
       "   newbalanceOrig  oldbalanceDest  newbalanceDest  error_balance_orig  \\\n",
       "0       160296.36             0.0             0.0                 0.0   \n",
       "1        19384.72             0.0             0.0                 0.0   \n",
       "2            0.00             0.0             0.0                 0.0   \n",
       "\n",
       "   error_Balance_Dest  isFraud  \n",
       "0             9839.64        0  \n",
       "1             1864.28        0  \n",
       "2              181.00        1  "
      ]
     },
     "execution_count": 30,
     "metadata": {},
     "output_type": "execute_result"
    }
   ],
   "source": [
    "df.head(3)"
   ]
  },
  {
   "cell_type": "code",
   "execution_count": 31,
   "id": "5170a597",
   "metadata": {
    "ExecuteTime": {
     "end_time": "2024-02-21T11:17:27.990200Z",
     "start_time": "2024-02-21T11:17:27.572819Z"
    }
   },
   "outputs": [
    {
     "data": {
      "text/plain": [
       "array(['customer'], dtype=object)"
      ]
     },
     "execution_count": 31,
     "metadata": {},
     "output_type": "execute_result"
    }
   ],
   "source": [
    "df['AccTypeOrig'].unique()"
   ]
  },
  {
   "cell_type": "markdown",
   "id": "1b271bf0",
   "metadata": {},
   "source": [
    "From above, There are All originator Accounts in transactions are same so we drop the column "
   ]
  },
  {
   "cell_type": "code",
   "execution_count": 32,
   "id": "dac05bf3",
   "metadata": {
    "ExecuteTime": {
     "end_time": "2024-02-21T11:17:29.659671Z",
     "start_time": "2024-02-21T11:17:29.289137Z"
    }
   },
   "outputs": [],
   "source": [
    "df.drop(columns=['AccTypeOrig'],inplace = True)"
   ]
  },
  {
   "cell_type": "code",
   "execution_count": 33,
   "id": "3f48380e",
   "metadata": {
    "ExecuteTime": {
     "end_time": "2024-02-21T11:17:32.830254Z",
     "start_time": "2024-02-21T11:17:30.616931Z"
    }
   },
   "outputs": [],
   "source": [
    "df['AccTypeDest'] = df['AccTypeDest'].replace({'customer': 0, 'merchant':1})"
   ]
  },
  {
   "cell_type": "code",
   "execution_count": 34,
   "id": "9fd21dc8",
   "metadata": {
    "ExecuteTime": {
     "end_time": "2024-02-21T11:17:36.303293Z",
     "start_time": "2024-02-21T11:17:33.641282Z"
    }
   },
   "outputs": [],
   "source": [
    "df['type'] = df['type'].replace({'TRANSFER':0,'CASH_OUT':1,'DEBIT':2,'PAYMENT':3,'CASH_IN':4})"
   ]
  },
  {
   "cell_type": "code",
   "execution_count": 35,
   "id": "d7a26640",
   "metadata": {
    "ExecuteTime": {
     "end_time": "2024-02-21T11:17:40.555550Z",
     "start_time": "2024-02-21T11:17:37.138232Z"
    }
   },
   "outputs": [
    {
     "data": {
      "text/html": [
       "<div>\n",
       "<style scoped>\n",
       "    .dataframe tbody tr th:only-of-type {\n",
       "        vertical-align: middle;\n",
       "    }\n",
       "\n",
       "    .dataframe tbody tr th {\n",
       "        vertical-align: top;\n",
       "    }\n",
       "\n",
       "    .dataframe thead th {\n",
       "        text-align: right;\n",
       "    }\n",
       "</style>\n",
       "<table border=\"1\" class=\"dataframe\">\n",
       "  <thead>\n",
       "    <tr style=\"text-align: right;\">\n",
       "      <th></th>\n",
       "      <th>step</th>\n",
       "      <th>type</th>\n",
       "      <th>amount</th>\n",
       "      <th>AccTypeDest</th>\n",
       "      <th>oldbalanceOrg</th>\n",
       "      <th>newbalanceOrig</th>\n",
       "      <th>oldbalanceDest</th>\n",
       "      <th>newbalanceDest</th>\n",
       "      <th>error_balance_orig</th>\n",
       "      <th>error_Balance_Dest</th>\n",
       "      <th>isFraud</th>\n",
       "    </tr>\n",
       "  </thead>\n",
       "  <tbody>\n",
       "    <tr>\n",
       "      <th>step</th>\n",
       "      <td>1.000000</td>\n",
       "      <td>0.005930</td>\n",
       "      <td>0.022373</td>\n",
       "      <td>0.004926</td>\n",
       "      <td>-0.010058</td>\n",
       "      <td>-0.010299</td>\n",
       "      <td>0.027665</td>\n",
       "      <td>0.025888</td>\n",
       "      <td>0.020516</td>\n",
       "      <td>0.028159</td>\n",
       "      <td>0.031578</td>\n",
       "    </tr>\n",
       "    <tr>\n",
       "      <th>type</th>\n",
       "      <td>0.005930</td>\n",
       "      <td>1.000000</td>\n",
       "      <td>-0.222793</td>\n",
       "      <td>0.390822</td>\n",
       "      <td>0.347669</td>\n",
       "      <td>0.364625</td>\n",
       "      <td>-0.117899</td>\n",
       "      <td>-0.173067</td>\n",
       "      <td>-0.119523</td>\n",
       "      <td>0.227791</td>\n",
       "      <td>-0.046615</td>\n",
       "    </tr>\n",
       "    <tr>\n",
       "      <th>amount</th>\n",
       "      <td>0.022373</td>\n",
       "      <td>-0.222793</td>\n",
       "      <td>1.000000</td>\n",
       "      <td>-0.197444</td>\n",
       "      <td>-0.002762</td>\n",
       "      <td>-0.007861</td>\n",
       "      <td>0.294137</td>\n",
       "      <td>0.459304</td>\n",
       "      <td>0.970660</td>\n",
       "      <td>-0.189928</td>\n",
       "      <td>0.076688</td>\n",
       "    </tr>\n",
       "    <tr>\n",
       "      <th>AccTypeDest</th>\n",
       "      <td>0.004926</td>\n",
       "      <td>0.390822</td>\n",
       "      <td>-0.197444</td>\n",
       "      <td>1.000000</td>\n",
       "      <td>-0.189486</td>\n",
       "      <td>-0.193915</td>\n",
       "      <td>-0.231455</td>\n",
       "      <td>-0.238315</td>\n",
       "      <td>-0.229066</td>\n",
       "      <td>-0.068817</td>\n",
       "      <td>-0.025697</td>\n",
       "    </tr>\n",
       "    <tr>\n",
       "      <th>oldbalanceOrg</th>\n",
       "      <td>-0.010058</td>\n",
       "      <td>0.347669</td>\n",
       "      <td>-0.002762</td>\n",
       "      <td>-0.189486</td>\n",
       "      <td>1.000000</td>\n",
       "      <td>0.998803</td>\n",
       "      <td>0.066243</td>\n",
       "      <td>0.042029</td>\n",
       "      <td>0.050502</td>\n",
       "      <td>0.156464</td>\n",
       "      <td>0.010154</td>\n",
       "    </tr>\n",
       "    <tr>\n",
       "      <th>newbalanceOrig</th>\n",
       "      <td>-0.010299</td>\n",
       "      <td>0.364625</td>\n",
       "      <td>-0.007861</td>\n",
       "      <td>-0.193915</td>\n",
       "      <td>0.998803</td>\n",
       "      <td>1.000000</td>\n",
       "      <td>0.067812</td>\n",
       "      <td>0.041837</td>\n",
       "      <td>0.056897</td>\n",
       "      <td>0.163161</td>\n",
       "      <td>-0.008148</td>\n",
       "    </tr>\n",
       "    <tr>\n",
       "      <th>oldbalanceDest</th>\n",
       "      <td>0.027665</td>\n",
       "      <td>-0.117899</td>\n",
       "      <td>0.294137</td>\n",
       "      <td>-0.231455</td>\n",
       "      <td>0.066243</td>\n",
       "      <td>0.067812</td>\n",
       "      <td>1.000000</td>\n",
       "      <td>0.976569</td>\n",
       "      <td>0.304256</td>\n",
       "      <td>-0.025460</td>\n",
       "      <td>-0.005885</td>\n",
       "    </tr>\n",
       "    <tr>\n",
       "      <th>newbalanceDest</th>\n",
       "      <td>0.025888</td>\n",
       "      <td>-0.173067</td>\n",
       "      <td>0.459304</td>\n",
       "      <td>-0.238315</td>\n",
       "      <td>0.042029</td>\n",
       "      <td>0.041837</td>\n",
       "      <td>0.976569</td>\n",
       "      <td>1.000000</td>\n",
       "      <td>0.458750</td>\n",
       "      <td>-0.174942</td>\n",
       "      <td>0.000535</td>\n",
       "    </tr>\n",
       "    <tr>\n",
       "      <th>error_balance_orig</th>\n",
       "      <td>0.020516</td>\n",
       "      <td>-0.119523</td>\n",
       "      <td>0.970660</td>\n",
       "      <td>-0.229066</td>\n",
       "      <td>0.050502</td>\n",
       "      <td>0.056897</td>\n",
       "      <td>0.304256</td>\n",
       "      <td>0.458750</td>\n",
       "      <td>1.000000</td>\n",
       "      <td>-0.147540</td>\n",
       "      <td>-0.011283</td>\n",
       "    </tr>\n",
       "    <tr>\n",
       "      <th>error_Balance_Dest</th>\n",
       "      <td>0.028159</td>\n",
       "      <td>0.227791</td>\n",
       "      <td>-0.189928</td>\n",
       "      <td>-0.068817</td>\n",
       "      <td>0.156464</td>\n",
       "      <td>0.163161</td>\n",
       "      <td>-0.025460</td>\n",
       "      <td>-0.174942</td>\n",
       "      <td>-0.147540</td>\n",
       "      <td>1.000000</td>\n",
       "      <td>0.055120</td>\n",
       "    </tr>\n",
       "    <tr>\n",
       "      <th>isFraud</th>\n",
       "      <td>0.031578</td>\n",
       "      <td>-0.046615</td>\n",
       "      <td>0.076688</td>\n",
       "      <td>-0.025697</td>\n",
       "      <td>0.010154</td>\n",
       "      <td>-0.008148</td>\n",
       "      <td>-0.005885</td>\n",
       "      <td>0.000535</td>\n",
       "      <td>-0.011283</td>\n",
       "      <td>0.055120</td>\n",
       "      <td>1.000000</td>\n",
       "    </tr>\n",
       "  </tbody>\n",
       "</table>\n",
       "</div>"
      ],
      "text/plain": [
       "                        step      type    amount  AccTypeDest  oldbalanceOrg  \\\n",
       "step                1.000000  0.005930  0.022373     0.004926      -0.010058   \n",
       "type                0.005930  1.000000 -0.222793     0.390822       0.347669   \n",
       "amount              0.022373 -0.222793  1.000000    -0.197444      -0.002762   \n",
       "AccTypeDest         0.004926  0.390822 -0.197444     1.000000      -0.189486   \n",
       "oldbalanceOrg      -0.010058  0.347669 -0.002762    -0.189486       1.000000   \n",
       "newbalanceOrig     -0.010299  0.364625 -0.007861    -0.193915       0.998803   \n",
       "oldbalanceDest      0.027665 -0.117899  0.294137    -0.231455       0.066243   \n",
       "newbalanceDest      0.025888 -0.173067  0.459304    -0.238315       0.042029   \n",
       "error_balance_orig  0.020516 -0.119523  0.970660    -0.229066       0.050502   \n",
       "error_Balance_Dest  0.028159  0.227791 -0.189928    -0.068817       0.156464   \n",
       "isFraud             0.031578 -0.046615  0.076688    -0.025697       0.010154   \n",
       "\n",
       "                    newbalanceOrig  oldbalanceDest  newbalanceDest  \\\n",
       "step                     -0.010299        0.027665        0.025888   \n",
       "type                      0.364625       -0.117899       -0.173067   \n",
       "amount                   -0.007861        0.294137        0.459304   \n",
       "AccTypeDest              -0.193915       -0.231455       -0.238315   \n",
       "oldbalanceOrg             0.998803        0.066243        0.042029   \n",
       "newbalanceOrig            1.000000        0.067812        0.041837   \n",
       "oldbalanceDest            0.067812        1.000000        0.976569   \n",
       "newbalanceDest            0.041837        0.976569        1.000000   \n",
       "error_balance_orig        0.056897        0.304256        0.458750   \n",
       "error_Balance_Dest        0.163161       -0.025460       -0.174942   \n",
       "isFraud                  -0.008148       -0.005885        0.000535   \n",
       "\n",
       "                    error_balance_orig  error_Balance_Dest   isFraud  \n",
       "step                          0.020516            0.028159  0.031578  \n",
       "type                         -0.119523            0.227791 -0.046615  \n",
       "amount                        0.970660           -0.189928  0.076688  \n",
       "AccTypeDest                  -0.229066           -0.068817 -0.025697  \n",
       "oldbalanceOrg                 0.050502            0.156464  0.010154  \n",
       "newbalanceOrig                0.056897            0.163161 -0.008148  \n",
       "oldbalanceDest                0.304256           -0.025460 -0.005885  \n",
       "newbalanceDest                0.458750           -0.174942  0.000535  \n",
       "error_balance_orig            1.000000           -0.147540 -0.011283  \n",
       "error_Balance_Dest           -0.147540            1.000000  0.055120  \n",
       "isFraud                      -0.011283            0.055120  1.000000  "
      ]
     },
     "execution_count": 35,
     "metadata": {},
     "output_type": "execute_result"
    }
   ],
   "source": [
    "correlation = df.corr()\n",
    "correlation"
   ]
  },
  {
   "cell_type": "code",
   "execution_count": 36,
   "id": "a5b2717a",
   "metadata": {
    "ExecuteTime": {
     "end_time": "2024-02-21T11:17:43.461668Z",
     "start_time": "2024-02-21T11:17:42.526656Z"
    }
   },
   "outputs": [
    {
     "data": {
      "text/plain": [
       "<AxesSubplot:>"
      ]
     },
     "execution_count": 36,
     "metadata": {},
     "output_type": "execute_result"
    },
    {
     "data": {
      "image/png": "[encoded data removed]",
      "text/plain": [
       "<Figure size 1000x800 with 2 Axes>"
      ]
     },
     "metadata": {},
     "output_type": "display_data"
    }
   ],
   "source": [
    "plt.figure(figsize=(10,8))\n",
    "sns.heatmap(correlation,annot=True)"
   ]
  },
  {
   "cell_type": "markdown",
   "id": "c130f369",
   "metadata": {},
   "source": [
    "#### Multicollinearity\n",
    "Looking at the correlation matrix provided:\n",
    "\n",
    "High positive correlations:\n",
    "amount and error_balance_orig: 0.970660\n",
    "\n",
    "oldbalanceOrg and newbalanceOrig: 0.998803\n",
    "\n",
    "oldbalanceDest and newbalanceDest: 0.976569\n",
    "\n",
    "High negative correlations:\n",
    "There are no high negative correlations in the matrix.\n",
    "These high correlations indicate potential multicollinearity between these pairs of variables. Specifically:\n",
    "\n",
    "amount and error_balance_orig have a very high positive correlation, suggesting that they may contain redundant information.\n",
    "oldbalanceOrg and newbalanceOrig, as well as oldbalanceDest and newbalanceDest, also have very high positive correlations, indicating strong linear relationships between these variables."
   ]
  },
  {
   "cell_type": "markdown",
   "id": "4a228d31",
   "metadata": {},
   "source": [
    "On The Basis Of The Transaction Type We Extract The Data Points belogs to methods 'Transfer' and 'Cash_out' which assigned by the values 0 and 1 respectively"
   ]
  },
  {
   "cell_type": "code",
   "execution_count": 37,
   "id": "98d6275f",
   "metadata": {
    "ExecuteTime": {
     "end_time": "2024-02-21T11:17:46.026038Z",
     "start_time": "2024-02-21T11:17:45.339711Z"
    }
   },
   "outputs": [
    {
     "data": {
      "text/html": [
       "<div>\n",
       "<style scoped>\n",
       "    .dataframe tbody tr th:only-of-type {\n",
       "        vertical-align: middle;\n",
       "    }\n",
       "\n",
       "    .dataframe tbody tr th {\n",
       "        vertical-align: top;\n",
       "    }\n",
       "\n",
       "    .dataframe thead th {\n",
       "        text-align: right;\n",
       "    }\n",
       "</style>\n",
       "<table border=\"1\" class=\"dataframe\">\n",
       "  <thead>\n",
       "    <tr style=\"text-align: right;\">\n",
       "      <th></th>\n",
       "      <th>step</th>\n",
       "      <th>type</th>\n",
       "      <th>amount</th>\n",
       "      <th>AccTypeDest</th>\n",
       "      <th>oldbalanceOrg</th>\n",
       "      <th>newbalanceOrig</th>\n",
       "      <th>oldbalanceDest</th>\n",
       "      <th>newbalanceDest</th>\n",
       "      <th>error_balance_orig</th>\n",
       "      <th>error_Balance_Dest</th>\n",
       "      <th>isFraud</th>\n",
       "    </tr>\n",
       "  </thead>\n",
       "  <tbody>\n",
       "    <tr>\n",
       "      <th>0</th>\n",
       "      <td>1</td>\n",
       "      <td>0</td>\n",
       "      <td>181.00</td>\n",
       "      <td>0</td>\n",
       "      <td>181.00</td>\n",
       "      <td>0.0</td>\n",
       "      <td>0.00</td>\n",
       "      <td>0.00</td>\n",
       "      <td>0.00</td>\n",
       "      <td>1.810000e+02</td>\n",
       "      <td>1</td>\n",
       "    </tr>\n",
       "    <tr>\n",
       "      <th>1</th>\n",
       "      <td>1</td>\n",
       "      <td>1</td>\n",
       "      <td>181.00</td>\n",
       "      <td>0</td>\n",
       "      <td>181.00</td>\n",
       "      <td>0.0</td>\n",
       "      <td>21182.00</td>\n",
       "      <td>0.00</td>\n",
       "      <td>0.00</td>\n",
       "      <td>2.136300e+04</td>\n",
       "      <td>1</td>\n",
       "    </tr>\n",
       "    <tr>\n",
       "      <th>2</th>\n",
       "      <td>1</td>\n",
       "      <td>1</td>\n",
       "      <td>229133.94</td>\n",
       "      <td>0</td>\n",
       "      <td>15325.00</td>\n",
       "      <td>0.0</td>\n",
       "      <td>5083.00</td>\n",
       "      <td>51513.44</td>\n",
       "      <td>213808.94</td>\n",
       "      <td>1.827035e+05</td>\n",
       "      <td>0</td>\n",
       "    </tr>\n",
       "    <tr>\n",
       "      <th>3</th>\n",
       "      <td>1</td>\n",
       "      <td>0</td>\n",
       "      <td>215310.30</td>\n",
       "      <td>0</td>\n",
       "      <td>705.00</td>\n",
       "      <td>0.0</td>\n",
       "      <td>22425.00</td>\n",
       "      <td>0.00</td>\n",
       "      <td>214605.30</td>\n",
       "      <td>2.377353e+05</td>\n",
       "      <td>0</td>\n",
       "    </tr>\n",
       "    <tr>\n",
       "      <th>4</th>\n",
       "      <td>1</td>\n",
       "      <td>0</td>\n",
       "      <td>311685.89</td>\n",
       "      <td>0</td>\n",
       "      <td>10835.00</td>\n",
       "      <td>0.0</td>\n",
       "      <td>6267.00</td>\n",
       "      <td>2719172.89</td>\n",
       "      <td>300850.89</td>\n",
       "      <td>-2.401220e+06</td>\n",
       "      <td>0</td>\n",
       "    </tr>\n",
       "    <tr>\n",
       "      <th>...</th>\n",
       "      <td>...</td>\n",
       "      <td>...</td>\n",
       "      <td>...</td>\n",
       "      <td>...</td>\n",
       "      <td>...</td>\n",
       "      <td>...</td>\n",
       "      <td>...</td>\n",
       "      <td>...</td>\n",
       "      <td>...</td>\n",
       "      <td>...</td>\n",
       "      <td>...</td>\n",
       "    </tr>\n",
       "    <tr>\n",
       "      <th>2770404</th>\n",
       "      <td>743</td>\n",
       "      <td>1</td>\n",
       "      <td>339682.13</td>\n",
       "      <td>0</td>\n",
       "      <td>339682.13</td>\n",
       "      <td>0.0</td>\n",
       "      <td>0.00</td>\n",
       "      <td>339682.13</td>\n",
       "      <td>0.00</td>\n",
       "      <td>0.000000e+00</td>\n",
       "      <td>1</td>\n",
       "    </tr>\n",
       "    <tr>\n",
       "      <th>2770405</th>\n",
       "      <td>743</td>\n",
       "      <td>0</td>\n",
       "      <td>6311409.28</td>\n",
       "      <td>0</td>\n",
       "      <td>6311409.28</td>\n",
       "      <td>0.0</td>\n",
       "      <td>0.00</td>\n",
       "      <td>0.00</td>\n",
       "      <td>0.00</td>\n",
       "      <td>6.311409e+06</td>\n",
       "      <td>1</td>\n",
       "    </tr>\n",
       "    <tr>\n",
       "      <th>2770406</th>\n",
       "      <td>743</td>\n",
       "      <td>1</td>\n",
       "      <td>6311409.28</td>\n",
       "      <td>0</td>\n",
       "      <td>6311409.28</td>\n",
       "      <td>0.0</td>\n",
       "      <td>68488.84</td>\n",
       "      <td>6379898.11</td>\n",
       "      <td>0.00</td>\n",
       "      <td>1.000000e-02</td>\n",
       "      <td>1</td>\n",
       "    </tr>\n",
       "    <tr>\n",
       "      <th>2770407</th>\n",
       "      <td>743</td>\n",
       "      <td>0</td>\n",
       "      <td>850002.52</td>\n",
       "      <td>0</td>\n",
       "      <td>850002.52</td>\n",
       "      <td>0.0</td>\n",
       "      <td>0.00</td>\n",
       "      <td>0.00</td>\n",
       "      <td>0.00</td>\n",
       "      <td>8.500025e+05</td>\n",
       "      <td>1</td>\n",
       "    </tr>\n",
       "    <tr>\n",
       "      <th>2770408</th>\n",
       "      <td>743</td>\n",
       "      <td>1</td>\n",
       "      <td>850002.52</td>\n",
       "      <td>0</td>\n",
       "      <td>850002.52</td>\n",
       "      <td>0.0</td>\n",
       "      <td>6510099.11</td>\n",
       "      <td>7360101.63</td>\n",
       "      <td>0.00</td>\n",
       "      <td>9.313226e-10</td>\n",
       "      <td>1</td>\n",
       "    </tr>\n",
       "  </tbody>\n",
       "</table>\n",
       "<p>2770409 rows × 11 columns</p>\n",
       "</div>"
      ],
      "text/plain": [
       "         step  type      amount  AccTypeDest  oldbalanceOrg  newbalanceOrig  \\\n",
       "0           1     0      181.00            0         181.00             0.0   \n",
       "1           1     1      181.00            0         181.00             0.0   \n",
       "2           1     1   229133.94            0       15325.00             0.0   \n",
       "3           1     0   215310.30            0         705.00             0.0   \n",
       "4           1     0   311685.89            0       10835.00             0.0   \n",
       "...       ...   ...         ...          ...            ...             ...   \n",
       "2770404   743     1   339682.13            0      339682.13             0.0   \n",
       "2770405   743     0  6311409.28            0     6311409.28             0.0   \n",
       "2770406   743     1  6311409.28            0     6311409.28             0.0   \n",
       "2770407   743     0   850002.52            0      850002.52             0.0   \n",
       "2770408   743     1   850002.52            0      850002.52             0.0   \n",
       "\n",
       "         oldbalanceDest  newbalanceDest  error_balance_orig  \\\n",
       "0                  0.00            0.00                0.00   \n",
       "1              21182.00            0.00                0.00   \n",
       "2               5083.00        51513.44           213808.94   \n",
       "3              22425.00            0.00           214605.30   \n",
       "4               6267.00      2719172.89           300850.89   \n",
       "...                 ...             ...                 ...   \n",
       "2770404            0.00       339682.13                0.00   \n",
       "2770405            0.00            0.00                0.00   \n",
       "2770406        68488.84      6379898.11                0.00   \n",
       "2770407            0.00            0.00                0.00   \n",
       "2770408      6510099.11      7360101.63                0.00   \n",
       "\n",
       "         error_Balance_Dest  isFraud  \n",
       "0              1.810000e+02        1  \n",
       "1              2.136300e+04        1  \n",
       "2              1.827035e+05        0  \n",
       "3              2.377353e+05        0  \n",
       "4             -2.401220e+06        0  \n",
       "...                     ...      ...  \n",
       "2770404        0.000000e+00        1  \n",
       "2770405        6.311409e+06        1  \n",
       "2770406        1.000000e-02        1  \n",
       "2770407        8.500025e+05        1  \n",
       "2770408        9.313226e-10        1  \n",
       "\n",
       "[2770409 rows x 11 columns]"
      ]
     },
     "execution_count": 37,
     "metadata": {},
     "output_type": "execute_result"
    }
   ],
   "source": [
    "new_df = df.loc[(df['type'] == 0) | (df['type'] == 1)].reset_index(drop = True)\n",
    "new_df"
   ]
  },
  {
   "cell_type": "markdown",
   "id": "0fd312d7",
   "metadata": {},
   "source": [
    " #### Detecting Outliers"
   ]
  },
  {
   "cell_type": "code",
   "execution_count": 38,
   "id": "963aa8a7",
   "metadata": {
    "ExecuteTime": {
     "end_time": "2024-02-21T11:17:49.255363Z",
     "start_time": "2024-02-21T11:17:48.036299Z"
    }
   },
   "outputs": [
    {
     "data": {
      "text/plain": [
       "<AxesSubplot:xlabel='amount'>"
      ]
     },
     "execution_count": 38,
     "metadata": {},
     "output_type": "execute_result"
    },
    {
     "data": {
      "image/png": "[encoded data removed]",
      "text/plain": [
       "<Figure size 640x480 with 1 Axes>"
      ]
     },
     "metadata": {},
     "output_type": "display_data"
    }
   ],
   "source": [
    "sns.boxplot(df['amount'])"
   ]
  },
  {
   "cell_type": "code",
   "execution_count": 39,
   "id": "48577c45",
   "metadata": {
    "ExecuteTime": {
     "end_time": "2024-02-21T11:17:50.636504Z",
     "start_time": "2024-02-21T11:17:50.553345Z"
    }
   },
   "outputs": [],
   "source": [
    "Q1 = new_df['amount'].quantile(0.25)\n",
    "Q3 = new_df['amount'].quantile(0.75)"
   ]
  },
  {
   "cell_type": "markdown",
   "id": "2169bc80",
   "metadata": {
    "ExecuteTime": {
     "end_time": "2024-02-20T15:00:19.699161Z",
     "start_time": "2024-02-20T15:00:12.933919Z"
    }
   },
   "source": [
    "Calculate the interquartile range (IQR)\n",
    "\n",
    "outlier boundaries\n"
   ]
  },
  {
   "cell_type": "code",
   "execution_count": 40,
   "id": "64985e4b",
   "metadata": {
    "ExecuteTime": {
     "end_time": "2024-02-21T11:17:52.253491Z",
     "start_time": "2024-02-21T11:17:52.248509Z"
    }
   },
   "outputs": [],
   "source": [
    "IQR = Q3 - Q1\n",
    "lower_bound = Q1 - 1.5 * IQR\n",
    "upper_bound = Q3 + 1.5 * IQR"
   ]
  },
  {
   "cell_type": "code",
   "execution_count": 41,
   "id": "5bdc9881",
   "metadata": {
    "ExecuteTime": {
     "end_time": "2024-02-21T11:17:53.580172Z",
     "start_time": "2024-02-21T11:17:53.114521Z"
    }
   },
   "outputs": [],
   "source": [
    "# Filter out the outliers\n",
    "df_clean = df[(df['amount'] >= lower_bound) & (df['amount'] <= upper_bound)]\n"
   ]
  },
  {
   "cell_type": "code",
   "execution_count": 42,
   "id": "1adb1a5b",
   "metadata": {
    "ExecuteTime": {
     "end_time": "2024-02-21T11:17:54.601391Z",
     "start_time": "2024-02-21T11:17:54.415805Z"
    },
    "scrolled": true
   },
   "outputs": [
    {
     "data": {
      "text/plain": [
       "0    6130474\n",
       "1       4770\n",
       "Name: isFraud, dtype: int64"
      ]
     },
     "execution_count": 42,
     "metadata": {},
     "output_type": "execute_result"
    }
   ],
   "source": [
    "df_clean['isFraud'].value_counts()"
   ]
  },
  {
   "cell_type": "markdown",
   "id": "964393f3",
   "metadata": {
    "ExecuteTime": {
     "end_time": "2024-02-20T15:16:48.359888Z",
     "start_time": "2024-02-20T15:16:48.345112Z"
    }
   },
   "source": [
    "#### Solution for Multicolinearity And Outliers \n",
    "\n",
    "To address multicollinearity and outliers in an imbalanced dataset where removing outliers would significantly reduce the fraud class values, it's essential to leverage algorithms that are robust and less sensitive to outliers. These algorithms can effectively handle the inherent challenges of imbalanced data without compromising the integrity of the dataset."
   ]
  },
  {
   "cell_type": "markdown",
   "id": "ca89e9f3",
   "metadata": {},
   "source": [
    "### Machine Selection "
   ]
  },
  {
   "cell_type": "code",
   "execution_count": 43,
   "id": "8894c6fc",
   "metadata": {
    "ExecuteTime": {
     "end_time": "2024-02-21T11:17:57.327717Z",
     "start_time": "2024-02-21T11:17:57.311185Z"
    }
   },
   "outputs": [],
   "source": [
    "from sklearn.preprocessing import StandardScaler\n",
    "from sklearn.model_selection import train_test_split"
   ]
  },
  {
   "cell_type": "markdown",
   "id": "86fbb06a",
   "metadata": {},
   "source": [
    "Selecting Features and Labels "
   ]
  },
  {
   "cell_type": "code",
   "execution_count": 44,
   "id": "2d1b9f17",
   "metadata": {
    "ExecuteTime": {
     "end_time": "2024-02-21T11:17:58.861700Z",
     "start_time": "2024-02-21T11:17:58.739724Z"
    }
   },
   "outputs": [],
   "source": [
    "X = new_df.iloc[:,:-1]\n",
    "y = new_df.iloc[:,-1]"
   ]
  },
  {
   "cell_type": "markdown",
   "id": "04b7fd12",
   "metadata": {},
   "source": [
    "Splitting The Data into Training And Testing Data"
   ]
  },
  {
   "cell_type": "code",
   "execution_count": 45,
   "id": "f71d7c87",
   "metadata": {
    "ExecuteTime": {
     "end_time": "2024-02-21T11:18:01.516886Z",
     "start_time": "2024-02-21T11:18:00.646361Z"
    }
   },
   "outputs": [],
   "source": [
    "X_train,X_test,y_train,y_test = train_test_split(X,y,test_size=0.2,random_state=42)"
   ]
  },
  {
   "cell_type": "markdown",
   "id": "f956c114",
   "metadata": {},
   "source": [
    "Scaling The Data"
   ]
  },
  {
   "cell_type": "code",
   "execution_count": 46,
   "id": "03c5faa4",
   "metadata": {
    "ExecuteTime": {
     "end_time": "2024-02-21T11:18:03.108714Z",
     "start_time": "2024-02-21T11:18:03.091252Z"
    }
   },
   "outputs": [],
   "source": [
    "scaler = StandardScaler()"
   ]
  },
  {
   "cell_type": "code",
   "execution_count": 47,
   "id": "3bc0d507",
   "metadata": {
    "ExecuteTime": {
     "end_time": "2024-02-21T11:18:04.867007Z",
     "start_time": "2024-02-21T11:18:03.939652Z"
    }
   },
   "outputs": [],
   "source": [
    "X_train_scaled = scaler.fit_transform(X_train)\n",
    "X_test_scaled = scaler.transform(X_test)"
   ]
  },
  {
   "cell_type": "markdown",
   "id": "94406ae4",
   "metadata": {},
   "source": [
    "Implementing Logistic Regression "
   ]
  },
  {
   "cell_type": "code",
   "execution_count": 48,
   "id": "fbc0de07",
   "metadata": {
    "ExecuteTime": {
     "end_time": "2024-02-21T11:18:14.739753Z",
     "start_time": "2024-02-21T11:18:14.536090Z"
    }
   },
   "outputs": [],
   "source": [
    "from sklearn.linear_model import LogisticRegression"
   ]
  },
  {
   "cell_type": "code",
   "execution_count": 49,
   "id": "7a78643e",
   "metadata": {
    "ExecuteTime": {
     "end_time": "2024-02-21T11:18:15.380204Z",
     "start_time": "2024-02-21T11:18:15.369208Z"
    }
   },
   "outputs": [],
   "source": [
    "lr_model = LogisticRegression(penalty='l2')"
   ]
  },
  {
   "cell_type": "code",
   "execution_count": 50,
   "id": "a9afa4d7",
   "metadata": {
    "ExecuteTime": {
     "end_time": "2024-02-21T11:18:22.046024Z",
     "start_time": "2024-02-21T11:18:16.263019Z"
    }
   },
   "outputs": [
    {
     "data": {
      "text/html": [
       "<style>#sk-container-id-1 {color: black;}#sk-container-id-1 pre{padding: 0;}#sk-container-id-1 div.sk-toggleable {background-color: white;}#sk-container-id-1 label.sk-toggleable__label {cursor: pointer;display: block;width: 100%;margin-bottom: 0;padding: 0.3em;box-sizing: border-box;text-align: center;}#sk-container-id-1 label.sk-toggleable__label-arrow:before {content: \"▸\";float: left;margin-right: 0.25em;color: #696969;}#sk-container-id-1 label.sk-toggleable__label-arrow:hover:before {color: black;}#sk-container-id-1 div.sk-estimator:hover label.sk-toggleable__label-arrow:before {color: black;}#sk-container-id-1 div.sk-toggleable__content {max-height: 0;max-width: 0;overflow: hidden;text-align: left;background-color: #f0f8ff;}#sk-container-id-1 div.sk-toggleable__content pre {margin: 0.2em;color: black;border-radius: 0.25em;background-color: #f0f8ff;}#sk-container-id-1 input.sk-toggleable__control:checked~div.sk-toggleable__content {max-height: 200px;max-width: 100%;overflow: auto;}#sk-container-id-1 input.sk-toggleable__control:checked~label.sk-toggleable__label-arrow:before {content: \"▾\";}#sk-container-id-1 div.sk-estimator input.sk-toggleable__control:checked~label.sk-toggleable__label {background-color: #d4ebff;}#sk-container-id-1 div.sk-label input.sk-toggleable__control:checked~label.sk-toggleable__label {background-color: #d4ebff;}#sk-container-id-1 input.sk-hidden--visually {border: 0;clip: rect(1px 1px 1px 1px);clip: rect(1px, 1px, 1px, 1px);height: 1px;margin: -1px;overflow: hidden;padding: 0;position: absolute;width: 1px;}#sk-container-id-1 div.sk-estimator {font-family: monospace;background-color: #f0f8ff;border: 1px dotted black;border-radius: 0.25em;box-sizing: border-box;margin-bottom: 0.5em;}#sk-container-id-1 div.sk-estimator:hover {background-color: #d4ebff;}#sk-container-id-1 div.sk-parallel-item::after {content: \"\";width: 100%;border-bottom: 1px solid gray;flex-grow: 1;}#sk-container-id-1 div.sk-label:hover label.sk-toggleable__label {background-color: #d4ebff;}#sk-container-id-1 div.sk-serial::before {content: \"\";position: absolute;border-left: 1px solid gray;box-sizing: border-box;top: 0;bottom: 0;left: 50%;z-index: 0;}#sk-container-id-1 div.sk-serial {display: flex;flex-direction: column;align-items: center;background-color: white;padding-right: 0.2em;padding-left: 0.2em;position: relative;}#sk-container-id-1 div.sk-item {position: relative;z-index: 1;}#sk-container-id-1 div.sk-parallel {display: flex;align-items: stretch;justify-content: center;background-color: white;position: relative;}#sk-container-id-1 div.sk-item::before, #sk-container-id-1 div.sk-parallel-item::before {content: \"\";position: absolute;border-left: 1px solid gray;box-sizing: border-box;top: 0;bottom: 0;left: 50%;z-index: -1;}#sk-container-id-1 div.sk-parallel-item {display: flex;flex-direction: column;z-index: 1;position: relative;background-color: white;}#sk-container-id-1 div.sk-parallel-item:first-child::after {align-self: flex-end;width: 50%;}#sk-container-id-1 div.sk-parallel-item:last-child::after {align-self: flex-start;width: 50%;}#sk-container-id-1 div.sk-parallel-item:only-child::after {width: 0;}#sk-container-id-1 div.sk-dashed-wrapped {border: 1px dashed gray;margin: 0 0.4em 0.5em 0.4em;box-sizing: border-box;padding-bottom: 0.4em;background-color: white;}#sk-container-id-1 div.sk-label label {font-family: monospace;font-weight: bold;display: inline-block;line-height: 1.2em;}#sk-container-id-1 div.sk-label-container {text-align: center;}#sk-container-id-1 div.sk-container {/* jupyter's `normalize.less` sets `[hidden] { display: none; }` but bootstrap.min.css set `[hidden] { display: none !important; }` so we also need the `!important` here to be able to override the default hidden behavior on the sphinx rendered scikit-learn.org. See: https://github.com/scikit-learn/scikit-learn/issues/21755 */display: inline-block !important;position: relative;}#sk-container-id-1 div.sk-text-repr-fallback {display: none;}</style><div id=\"sk-container-id-1\" class=\"sk-top-container\"><div class=\"sk-text-repr-fallback\"><pre>LogisticRegression()</pre><b>In a Jupyter environment, please rerun this cell to show the HTML representation or trust the notebook. <br />On GitHub, the HTML representation is unable to render, please try loading this page with nbviewer.org.</b></div><div class=\"sk-container\" hidden><div class=\"sk-item\"><div class=\"sk-estimator sk-toggleable\"><input class=\"sk-toggleable__control sk-hidden--visually\" id=\"sk-estimator-id-1\" type=\"checkbox\" checked><label for=\"sk-estimator-id-1\" class=\"sk-toggleable__label sk-toggleable__label-arrow\">LogisticRegression</label><div class=\"sk-toggleable__content\"><pre>LogisticRegression()</pre></div></div></div></div></div>"
      ],
      "text/plain": [
       "LogisticRegression()"
      ]
     },
     "execution_count": 50,
     "metadata": {},
     "output_type": "execute_result"
    }
   ],
   "source": [
    "lr_model.fit(X_train_scaled,y_train)"
   ]
  },
  {
   "cell_type": "code",
   "execution_count": 51,
   "id": "2dcd8c22",
   "metadata": {
    "ExecuteTime": {
     "end_time": "2024-02-21T11:18:23.056323Z",
     "start_time": "2024-02-21T11:18:23.029083Z"
    }
   },
   "outputs": [],
   "source": [
    "lr_pred = lr_model.predict(X_test_scaled)"
   ]
  },
  {
   "cell_type": "code",
   "execution_count": 53,
   "id": "5ef98329",
   "metadata": {
    "ExecuteTime": {
     "end_time": "2024-02-21T11:18:26.671396Z",
     "start_time": "2024-02-21T11:18:25.783663Z"
    }
   },
   "outputs": [
    {
     "name": "stdout",
     "output_type": "stream",
     "text": [
      "              precision    recall  f1-score   support\n",
      "\n",
      "           0       1.00      1.00      1.00    552436\n",
      "           1       0.90      0.49      0.64      1646\n",
      "\n",
      "    accuracy                           1.00    554082\n",
      "   macro avg       0.95      0.75      0.82    554082\n",
      "weighted avg       1.00      1.00      1.00    554082\n",
      "\n"
     ]
    }
   ],
   "source": [
    "print(classification_report(y_test,lr_pred))"
   ]
  },
  {
   "cell_type": "code",
   "execution_count": 54,
   "id": "717bab52",
   "metadata": {
    "ExecuteTime": {
     "end_time": "2024-02-21T11:18:35.097132Z",
     "start_time": "2024-02-21T11:18:34.996396Z"
    }
   },
   "outputs": [
    {
     "data": {
      "text/plain": [
       "array([[552346,     90],\n",
       "       [   833,    813]], dtype=int64)"
      ]
     },
     "execution_count": 54,
     "metadata": {},
     "output_type": "execute_result"
    }
   ],
   "source": [
    "confusion_matrix(y_test,lr_pred)"
   ]
  },
  {
   "cell_type": "code",
   "execution_count": 55,
   "id": "80a35dc0",
   "metadata": {
    "ExecuteTime": {
     "end_time": "2024-02-21T11:18:38.000897Z",
     "start_time": "2024-02-21T11:18:37.608583Z"
    }
   },
   "outputs": [
    {
     "name": "stdout",
     "output_type": "stream",
     "text": [
      "F1 score :  0.6378972145939584\n",
      "Precision : 0.9003322259136213\n"
     ]
    }
   ],
   "source": [
    "print('F1 score : ',f1_score(y_test,lr_pred))\n",
    "print('Precision :',precision_score(y_test,lr_pred))"
   ]
  },
  {
   "cell_type": "markdown",
   "id": "d887ecbc",
   "metadata": {},
   "source": [
    "Hyperparameter Tuning With The Logistic Regression "
   ]
  },
  {
   "cell_type": "code",
   "execution_count": 56,
   "id": "9aa577cc",
   "metadata": {
    "ExecuteTime": {
     "end_time": "2024-02-21T11:18:40.261681Z",
     "start_time": "2024-02-21T11:18:40.250700Z"
    }
   },
   "outputs": [],
   "source": [
    "from sklearn.model_selection import GridSearchCV\n",
    "param_grid = {'C': [ 0.01, 0.1, 10],\n",
    "              'penalty': ['l1', 'l2']}\n",
    "logistic_model = LogisticRegression(max_iter=10, solver='liblinear')\n",
    "reg_model = GridSearchCV(logistic_model, param_grid, cv=3, scoring='accuracy')"
   ]
  },
  {
   "cell_type": "code",
   "execution_count": 57,
   "id": "65e8c05d",
   "metadata": {
    "ExecuteTime": {
     "end_time": "2024-02-21T11:19:49.489893Z",
     "start_time": "2024-02-21T11:18:45.778984Z"
    }
   },
   "outputs": [
    {
     "data": {
      "text/html": [
       "<style>#sk-container-id-2 {color: black;}#sk-container-id-2 pre{padding: 0;}#sk-container-id-2 div.sk-toggleable {background-color: white;}#sk-container-id-2 label.sk-toggleable__label {cursor: pointer;display: block;width: 100%;margin-bottom: 0;padding: 0.3em;box-sizing: border-box;text-align: center;}#sk-container-id-2 label.sk-toggleable__label-arrow:before {content: \"▸\";float: left;margin-right: 0.25em;color: #696969;}#sk-container-id-2 label.sk-toggleable__label-arrow:hover:before {color: black;}#sk-container-id-2 div.sk-estimator:hover label.sk-toggleable__label-arrow:before {color: black;}#sk-container-id-2 div.sk-toggleable__content {max-height: 0;max-width: 0;overflow: hidden;text-align: left;background-color: #f0f8ff;}#sk-container-id-2 div.sk-toggleable__content pre {margin: 0.2em;color: black;border-radius: 0.25em;background-color: #f0f8ff;}#sk-container-id-2 input.sk-toggleable__control:checked~div.sk-toggleable__content {max-height: 200px;max-width: 100%;overflow: auto;}#sk-container-id-2 input.sk-toggleable__control:checked~label.sk-toggleable__label-arrow:before {content: \"▾\";}#sk-container-id-2 div.sk-estimator input.sk-toggleable__control:checked~label.sk-toggleable__label {background-color: #d4ebff;}#sk-container-id-2 div.sk-label input.sk-toggleable__control:checked~label.sk-toggleable__label {background-color: #d4ebff;}#sk-container-id-2 input.sk-hidden--visually {border: 0;clip: rect(1px 1px 1px 1px);clip: rect(1px, 1px, 1px, 1px);height: 1px;margin: -1px;overflow: hidden;padding: 0;position: absolute;width: 1px;}#sk-container-id-2 div.sk-estimator {font-family: monospace;background-color: #f0f8ff;border: 1px dotted black;border-radius: 0.25em;box-sizing: border-box;margin-bottom: 0.5em;}#sk-container-id-2 div.sk-estimator:hover {background-color: #d4ebff;}#sk-container-id-2 div.sk-parallel-item::after {content: \"\";width: 100%;border-bottom: 1px solid gray;flex-grow: 1;}#sk-container-id-2 div.sk-label:hover label.sk-toggleable__label {background-color: #d4ebff;}#sk-container-id-2 div.sk-serial::before {content: \"\";position: absolute;border-left: 1px solid gray;box-sizing: border-box;top: 0;bottom: 0;left: 50%;z-index: 0;}#sk-container-id-2 div.sk-serial {display: flex;flex-direction: column;align-items: center;background-color: white;padding-right: 0.2em;padding-left: 0.2em;position: relative;}#sk-container-id-2 div.sk-item {position: relative;z-index: 1;}#sk-container-id-2 div.sk-parallel {display: flex;align-items: stretch;justify-content: center;background-color: white;position: relative;}#sk-container-id-2 div.sk-item::before, #sk-container-id-2 div.sk-parallel-item::before {content: \"\";position: absolute;border-left: 1px solid gray;box-sizing: border-box;top: 0;bottom: 0;left: 50%;z-index: -1;}#sk-container-id-2 div.sk-parallel-item {display: flex;flex-direction: column;z-index: 1;position: relative;background-color: white;}#sk-container-id-2 div.sk-parallel-item:first-child::after {align-self: flex-end;width: 50%;}#sk-container-id-2 div.sk-parallel-item:last-child::after {align-self: flex-start;width: 50%;}#sk-container-id-2 div.sk-parallel-item:only-child::after {width: 0;}#sk-container-id-2 div.sk-dashed-wrapped {border: 1px dashed gray;margin: 0 0.4em 0.5em 0.4em;box-sizing: border-box;padding-bottom: 0.4em;background-color: white;}#sk-container-id-2 div.sk-label label {font-family: monospace;font-weight: bold;display: inline-block;line-height: 1.2em;}#sk-container-id-2 div.sk-label-container {text-align: center;}#sk-container-id-2 div.sk-container {/* jupyter's `normalize.less` sets `[hidden] { display: none; }` but bootstrap.min.css set `[hidden] { display: none !important; }` so we also need the `!important` here to be able to override the default hidden behavior on the sphinx rendered scikit-learn.org. See: https://github.com/scikit-learn/scikit-learn/issues/21755 */display: inline-block !important;position: relative;}#sk-container-id-2 div.sk-text-repr-fallback {display: none;}</style><div id=\"sk-container-id-2\" class=\"sk-top-container\"><div class=\"sk-text-repr-fallback\"><pre>GridSearchCV(cv=3,\n",
       "             estimator=LogisticRegression(max_iter=10, solver=&#x27;liblinear&#x27;),\n",
       "             param_grid={&#x27;C&#x27;: [0.01, 0.1, 10], &#x27;penalty&#x27;: [&#x27;l1&#x27;, &#x27;l2&#x27;]},\n",
       "             scoring=&#x27;accuracy&#x27;)</pre><b>In a Jupyter environment, please rerun this cell to show the HTML representation or trust the notebook. <br />On GitHub, the HTML representation is unable to render, please try loading this page with nbviewer.org.</b></div><div class=\"sk-container\" hidden><div class=\"sk-item sk-dashed-wrapped\"><div class=\"sk-label-container\"><div class=\"sk-label sk-toggleable\"><input class=\"sk-toggleable__control sk-hidden--visually\" id=\"sk-estimator-id-2\" type=\"checkbox\" ><label for=\"sk-estimator-id-2\" class=\"sk-toggleable__label sk-toggleable__label-arrow\">GridSearchCV</label><div class=\"sk-toggleable__content\"><pre>GridSearchCV(cv=3,\n",
       "             estimator=LogisticRegression(max_iter=10, solver=&#x27;liblinear&#x27;),\n",
       "             param_grid={&#x27;C&#x27;: [0.01, 0.1, 10], &#x27;penalty&#x27;: [&#x27;l1&#x27;, &#x27;l2&#x27;]},\n",
       "             scoring=&#x27;accuracy&#x27;)</pre></div></div></div><div class=\"sk-parallel\"><div class=\"sk-parallel-item\"><div class=\"sk-item\"><div class=\"sk-label-container\"><div class=\"sk-label sk-toggleable\"><input class=\"sk-toggleable__control sk-hidden--visually\" id=\"sk-estimator-id-3\" type=\"checkbox\" ><label for=\"sk-estimator-id-3\" class=\"sk-toggleable__label sk-toggleable__label-arrow\">estimator: LogisticRegression</label><div class=\"sk-toggleable__content\"><pre>LogisticRegression(max_iter=10, solver=&#x27;liblinear&#x27;)</pre></div></div></div><div class=\"sk-serial\"><div class=\"sk-item\"><div class=\"sk-estimator sk-toggleable\"><input class=\"sk-toggleable__control sk-hidden--visually\" id=\"sk-estimator-id-4\" type=\"checkbox\" ><label for=\"sk-estimator-id-4\" class=\"sk-toggleable__label sk-toggleable__label-arrow\">LogisticRegression</label><div class=\"sk-toggleable__content\"><pre>LogisticRegression(max_iter=10, solver=&#x27;liblinear&#x27;)</pre></div></div></div></div></div></div></div></div></div></div>"
      ],
      "text/plain": [
       "GridSearchCV(cv=3,\n",
       "             estimator=LogisticRegression(max_iter=10, solver='liblinear'),\n",
       "             param_grid={'C': [0.01, 0.1, 10], 'penalty': ['l1', 'l2']},\n",
       "             scoring='accuracy')"
      ]
     },
     "execution_count": 57,
     "metadata": {},
     "output_type": "execute_result"
    }
   ],
   "source": [
    "reg_model.fit(X_train_scaled,y_train)"
   ]
  },
  {
   "cell_type": "code",
   "execution_count": 58,
   "id": "c12ec975",
   "metadata": {
    "ExecuteTime": {
     "end_time": "2024-02-21T11:19:57.503212Z",
     "start_time": "2024-02-21T11:19:52.022120Z"
    }
   },
   "outputs": [
    {
     "data": {
      "text/html": [
       "<style>#sk-container-id-3 {color: black;}#sk-container-id-3 pre{padding: 0;}#sk-container-id-3 div.sk-toggleable {background-color: white;}#sk-container-id-3 label.sk-toggleable__label {cursor: pointer;display: block;width: 100%;margin-bottom: 0;padding: 0.3em;box-sizing: border-box;text-align: center;}#sk-container-id-3 label.sk-toggleable__label-arrow:before {content: \"▸\";float: left;margin-right: 0.25em;color: #696969;}#sk-container-id-3 label.sk-toggleable__label-arrow:hover:before {color: black;}#sk-container-id-3 div.sk-estimator:hover label.sk-toggleable__label-arrow:before {color: black;}#sk-container-id-3 div.sk-toggleable__content {max-height: 0;max-width: 0;overflow: hidden;text-align: left;background-color: #f0f8ff;}#sk-container-id-3 div.sk-toggleable__content pre {margin: 0.2em;color: black;border-radius: 0.25em;background-color: #f0f8ff;}#sk-container-id-3 input.sk-toggleable__control:checked~div.sk-toggleable__content {max-height: 200px;max-width: 100%;overflow: auto;}#sk-container-id-3 input.sk-toggleable__control:checked~label.sk-toggleable__label-arrow:before {content: \"▾\";}#sk-container-id-3 div.sk-estimator input.sk-toggleable__control:checked~label.sk-toggleable__label {background-color: #d4ebff;}#sk-container-id-3 div.sk-label input.sk-toggleable__control:checked~label.sk-toggleable__label {background-color: #d4ebff;}#sk-container-id-3 input.sk-hidden--visually {border: 0;clip: rect(1px 1px 1px 1px);clip: rect(1px, 1px, 1px, 1px);height: 1px;margin: -1px;overflow: hidden;padding: 0;position: absolute;width: 1px;}#sk-container-id-3 div.sk-estimator {font-family: monospace;background-color: #f0f8ff;border: 1px dotted black;border-radius: 0.25em;box-sizing: border-box;margin-bottom: 0.5em;}#sk-container-id-3 div.sk-estimator:hover {background-color: #d4ebff;}#sk-container-id-3 div.sk-parallel-item::after {content: \"\";width: 100%;border-bottom: 1px solid gray;flex-grow: 1;}#sk-container-id-3 div.sk-label:hover label.sk-toggleable__label {background-color: #d4ebff;}#sk-container-id-3 div.sk-serial::before {content: \"\";position: absolute;border-left: 1px solid gray;box-sizing: border-box;top: 0;bottom: 0;left: 50%;z-index: 0;}#sk-container-id-3 div.sk-serial {display: flex;flex-direction: column;align-items: center;background-color: white;padding-right: 0.2em;padding-left: 0.2em;position: relative;}#sk-container-id-3 div.sk-item {position: relative;z-index: 1;}#sk-container-id-3 div.sk-parallel {display: flex;align-items: stretch;justify-content: center;background-color: white;position: relative;}#sk-container-id-3 div.sk-item::before, #sk-container-id-3 div.sk-parallel-item::before {content: \"\";position: absolute;border-left: 1px solid gray;box-sizing: border-box;top: 0;bottom: 0;left: 50%;z-index: -1;}#sk-container-id-3 div.sk-parallel-item {display: flex;flex-direction: column;z-index: 1;position: relative;background-color: white;}#sk-container-id-3 div.sk-parallel-item:first-child::after {align-self: flex-end;width: 50%;}#sk-container-id-3 div.sk-parallel-item:last-child::after {align-self: flex-start;width: 50%;}#sk-container-id-3 div.sk-parallel-item:only-child::after {width: 0;}#sk-container-id-3 div.sk-dashed-wrapped {border: 1px dashed gray;margin: 0 0.4em 0.5em 0.4em;box-sizing: border-box;padding-bottom: 0.4em;background-color: white;}#sk-container-id-3 div.sk-label label {font-family: monospace;font-weight: bold;display: inline-block;line-height: 1.2em;}#sk-container-id-3 div.sk-label-container {text-align: center;}#sk-container-id-3 div.sk-container {/* jupyter's `normalize.less` sets `[hidden] { display: none; }` but bootstrap.min.css set `[hidden] { display: none !important; }` so we also need the `!important` here to be able to override the default hidden behavior on the sphinx rendered scikit-learn.org. See: https://github.com/scikit-learn/scikit-learn/issues/21755 */display: inline-block !important;position: relative;}#sk-container-id-3 div.sk-text-repr-fallback {display: none;}</style><div id=\"sk-container-id-3\" class=\"sk-top-container\"><div class=\"sk-text-repr-fallback\"><pre>LogisticRegression(C=10, max_iter=10, solver=&#x27;liblinear&#x27;)</pre><b>In a Jupyter environment, please rerun this cell to show the HTML representation or trust the notebook. <br />On GitHub, the HTML representation is unable to render, please try loading this page with nbviewer.org.</b></div><div class=\"sk-container\" hidden><div class=\"sk-item\"><div class=\"sk-estimator sk-toggleable\"><input class=\"sk-toggleable__control sk-hidden--visually\" id=\"sk-estimator-id-5\" type=\"checkbox\" checked><label for=\"sk-estimator-id-5\" class=\"sk-toggleable__label sk-toggleable__label-arrow\">LogisticRegression</label><div class=\"sk-toggleable__content\"><pre>LogisticRegression(C=10, max_iter=10, solver=&#x27;liblinear&#x27;)</pre></div></div></div></div></div>"
      ],
      "text/plain": [
       "LogisticRegression(C=10, max_iter=10, solver='liblinear')"
      ]
     },
     "execution_count": 58,
     "metadata": {},
     "output_type": "execute_result"
    }
   ],
   "source": [
    "reg_model.best_estimator_.fit(X_train_scaled,y_train)"
   ]
  },
  {
   "cell_type": "code",
   "execution_count": 59,
   "id": "d2ac5eae",
   "metadata": {
    "ExecuteTime": {
     "end_time": "2024-02-21T11:19:58.467157Z",
     "start_time": "2024-02-21T11:19:58.439760Z"
    }
   },
   "outputs": [],
   "source": [
    "reg_pred = reg_model.best_estimator_.predict(X_test_scaled)"
   ]
  },
  {
   "cell_type": "code",
   "execution_count": 60,
   "id": "bde9d529",
   "metadata": {
    "ExecuteTime": {
     "end_time": "2024-02-21T11:19:59.838327Z",
     "start_time": "2024-02-21T11:19:59.057554Z"
    }
   },
   "outputs": [
    {
     "name": "stdout",
     "output_type": "stream",
     "text": [
      "              precision    recall  f1-score   support\n",
      "\n",
      "           0       1.00      1.00      1.00    552436\n",
      "           1       0.90      0.49      0.64      1646\n",
      "\n",
      "    accuracy                           1.00    554082\n",
      "   macro avg       0.95      0.75      0.82    554082\n",
      "weighted avg       1.00      1.00      1.00    554082\n",
      "\n"
     ]
    }
   ],
   "source": [
    "print(classification_report(y_test,reg_pred))"
   ]
  },
  {
   "cell_type": "markdown",
   "id": "49a71886",
   "metadata": {},
   "source": [
    "Implementing Decision Tree Algorithm "
   ]
  },
  {
   "cell_type": "code",
   "execution_count": 61,
   "id": "25d4b331",
   "metadata": {
    "ExecuteTime": {
     "end_time": "2024-02-21T11:20:07.521682Z",
     "start_time": "2024-02-21T11:20:07.378355Z"
    }
   },
   "outputs": [],
   "source": [
    "from sklearn.tree import DecisionTreeClassifier"
   ]
  },
  {
   "cell_type": "code",
   "execution_count": 62,
   "id": "9a2974da",
   "metadata": {
    "ExecuteTime": {
     "end_time": "2024-02-21T11:20:08.937068Z",
     "start_time": "2024-02-21T11:20:08.927063Z"
    }
   },
   "outputs": [],
   "source": [
    "dt_model = DecisionTreeClassifier()"
   ]
  },
  {
   "cell_type": "code",
   "execution_count": 63,
   "id": "e026e9dd",
   "metadata": {
    "ExecuteTime": {
     "end_time": "2024-02-21T11:21:00.863810Z",
     "start_time": "2024-02-21T11:20:11.904416Z"
    }
   },
   "outputs": [
    {
     "data": {
      "text/html": [
       "<style>#sk-container-id-4 {color: black;}#sk-container-id-4 pre{padding: 0;}#sk-container-id-4 div.sk-toggleable {background-color: white;}#sk-container-id-4 label.sk-toggleable__label {cursor: pointer;display: block;width: 100%;margin-bottom: 0;padding: 0.3em;box-sizing: border-box;text-align: center;}#sk-container-id-4 label.sk-toggleable__label-arrow:before {content: \"▸\";float: left;margin-right: 0.25em;color: #696969;}#sk-container-id-4 label.sk-toggleable__label-arrow:hover:before {color: black;}#sk-container-id-4 div.sk-estimator:hover label.sk-toggleable__label-arrow:before {color: black;}#sk-container-id-4 div.sk-toggleable__content {max-height: 0;max-width: 0;overflow: hidden;text-align: left;background-color: #f0f8ff;}#sk-container-id-4 div.sk-toggleable__content pre {margin: 0.2em;color: black;border-radius: 0.25em;background-color: #f0f8ff;}#sk-container-id-4 input.sk-toggleable__control:checked~div.sk-toggleable__content {max-height: 200px;max-width: 100%;overflow: auto;}#sk-container-id-4 input.sk-toggleable__control:checked~label.sk-toggleable__label-arrow:before {content: \"▾\";}#sk-container-id-4 div.sk-estimator input.sk-toggleable__control:checked~label.sk-toggleable__label {background-color: #d4ebff;}#sk-container-id-4 div.sk-label input.sk-toggleable__control:checked~label.sk-toggleable__label {background-color: #d4ebff;}#sk-container-id-4 input.sk-hidden--visually {border: 0;clip: rect(1px 1px 1px 1px);clip: rect(1px, 1px, 1px, 1px);height: 1px;margin: -1px;overflow: hidden;padding: 0;position: absolute;width: 1px;}#sk-container-id-4 div.sk-estimator {font-family: monospace;background-color: #f0f8ff;border: 1px dotted black;border-radius: 0.25em;box-sizing: border-box;margin-bottom: 0.5em;}#sk-container-id-4 div.sk-estimator:hover {background-color: #d4ebff;}#sk-container-id-4 div.sk-parallel-item::after {content: \"\";width: 100%;border-bottom: 1px solid gray;flex-grow: 1;}#sk-container-id-4 div.sk-label:hover label.sk-toggleable__label {background-color: #d4ebff;}#sk-container-id-4 div.sk-serial::before {content: \"\";position: absolute;border-left: 1px solid gray;box-sizing: border-box;top: 0;bottom: 0;left: 50%;z-index: 0;}#sk-container-id-4 div.sk-serial {display: flex;flex-direction: column;align-items: center;background-color: white;padding-right: 0.2em;padding-left: 0.2em;position: relative;}#sk-container-id-4 div.sk-item {position: relative;z-index: 1;}#sk-container-id-4 div.sk-parallel {display: flex;align-items: stretch;justify-content: center;background-color: white;position: relative;}#sk-container-id-4 div.sk-item::before, #sk-container-id-4 div.sk-parallel-item::before {content: \"\";position: absolute;border-left: 1px solid gray;box-sizing: border-box;top: 0;bottom: 0;left: 50%;z-index: -1;}#sk-container-id-4 div.sk-parallel-item {display: flex;flex-direction: column;z-index: 1;position: relative;background-color: white;}#sk-container-id-4 div.sk-parallel-item:first-child::after {align-self: flex-end;width: 50%;}#sk-container-id-4 div.sk-parallel-item:last-child::after {align-self: flex-start;width: 50%;}#sk-container-id-4 div.sk-parallel-item:only-child::after {width: 0;}#sk-container-id-4 div.sk-dashed-wrapped {border: 1px dashed gray;margin: 0 0.4em 0.5em 0.4em;box-sizing: border-box;padding-bottom: 0.4em;background-color: white;}#sk-container-id-4 div.sk-label label {font-family: monospace;font-weight: bold;display: inline-block;line-height: 1.2em;}#sk-container-id-4 div.sk-label-container {text-align: center;}#sk-container-id-4 div.sk-container {/* jupyter's `normalize.less` sets `[hidden] { display: none; }` but bootstrap.min.css set `[hidden] { display: none !important; }` so we also need the `!important` here to be able to override the default hidden behavior on the sphinx rendered scikit-learn.org. See: https://github.com/scikit-learn/scikit-learn/issues/21755 */display: inline-block !important;position: relative;}#sk-container-id-4 div.sk-text-repr-fallback {display: none;}</style><div id=\"sk-container-id-4\" class=\"sk-top-container\"><div class=\"sk-text-repr-fallback\"><pre>DecisionTreeClassifier()</pre><b>In a Jupyter environment, please rerun this cell to show the HTML representation or trust the notebook. <br />On GitHub, the HTML representation is unable to render, please try loading this page with nbviewer.org.</b></div><div class=\"sk-container\" hidden><div class=\"sk-item\"><div class=\"sk-estimator sk-toggleable\"><input class=\"sk-toggleable__control sk-hidden--visually\" id=\"sk-estimator-id-6\" type=\"checkbox\" checked><label for=\"sk-estimator-id-6\" class=\"sk-toggleable__label sk-toggleable__label-arrow\">DecisionTreeClassifier</label><div class=\"sk-toggleable__content\"><pre>DecisionTreeClassifier()</pre></div></div></div></div></div>"
      ],
      "text/plain": [
       "DecisionTreeClassifier()"
      ]
     },
     "execution_count": 63,
     "metadata": {},
     "output_type": "execute_result"
    }
   ],
   "source": [
    "dt_model.fit(X_train,y_train)"
   ]
  },
  {
   "cell_type": "code",
   "execution_count": 64,
   "id": "38a778a5",
   "metadata": {
    "ExecuteTime": {
     "end_time": "2024-02-21T11:21:02.008626Z",
     "start_time": "2024-02-21T11:21:01.924716Z"
    }
   },
   "outputs": [],
   "source": [
    "dt_pred = dt_model.predict(X_test)"
   ]
  },
  {
   "cell_type": "code",
   "execution_count": 65,
   "id": "0477e5f1",
   "metadata": {
    "ExecuteTime": {
     "end_time": "2024-02-21T11:21:04.467997Z",
     "start_time": "2024-02-21T11:21:03.730955Z"
    }
   },
   "outputs": [
    {
     "name": "stdout",
     "output_type": "stream",
     "text": [
      "              precision    recall  f1-score   support\n",
      "\n",
      "           0       1.00      1.00      1.00    552436\n",
      "           1       0.99      0.99      0.99      1646\n",
      "\n",
      "    accuracy                           1.00    554082\n",
      "   macro avg       1.00      1.00      1.00    554082\n",
      "weighted avg       1.00      1.00      1.00    554082\n",
      "\n"
     ]
    }
   ],
   "source": [
    "print(classification_report(y_test,dt_pred))"
   ]
  },
  {
   "cell_type": "code",
   "execution_count": 66,
   "id": "5a50b164",
   "metadata": {
    "ExecuteTime": {
     "end_time": "2024-02-21T11:21:06.392184Z",
     "start_time": "2024-02-21T11:21:06.306920Z"
    }
   },
   "outputs": [
    {
     "data": {
      "text/plain": [
       "array([[552425,     11],\n",
       "       [    11,   1635]], dtype=int64)"
      ]
     },
     "execution_count": 66,
     "metadata": {},
     "output_type": "execute_result"
    }
   ],
   "source": [
    "confusion_matrix(y_test,dt_pred)"
   ]
  },
  {
   "cell_type": "markdown",
   "id": "5506549b",
   "metadata": {},
   "source": [
    "Implementing Gradient Boosting Regressor"
   ]
  },
  {
   "cell_type": "code",
   "execution_count": 67,
   "id": "cd47f244",
   "metadata": {
    "ExecuteTime": {
     "end_time": "2024-02-21T11:21:08.566112Z",
     "start_time": "2024-02-21T11:21:08.427279Z"
    }
   },
   "outputs": [],
   "source": [
    "from xgboost import XGBClassifier"
   ]
  },
  {
   "cell_type": "code",
   "execution_count": 68,
   "id": "53241da5",
   "metadata": {
    "ExecuteTime": {
     "end_time": "2024-02-21T11:21:09.800165Z",
     "start_time": "2024-02-21T11:21:09.789415Z"
    }
   },
   "outputs": [],
   "source": [
    "xgb_clf = XGBClassifier()"
   ]
  },
  {
   "cell_type": "code",
   "execution_count": 69,
   "id": "a707aa97",
   "metadata": {
    "ExecuteTime": {
     "end_time": "2024-02-21T11:24:17.349346Z",
     "start_time": "2024-02-21T11:21:13.950066Z"
    }
   },
   "outputs": [
    {
     "data": {
      "text/html": [
       "<style>#sk-container-id-5 {color: black;}#sk-container-id-5 pre{padding: 0;}#sk-container-id-5 div.sk-toggleable {background-color: white;}#sk-container-id-5 label.sk-toggleable__label {cursor: pointer;display: block;width: 100%;margin-bottom: 0;padding: 0.3em;box-sizing: border-box;text-align: center;}#sk-container-id-5 label.sk-toggleable__label-arrow:before {content: \"▸\";float: left;margin-right: 0.25em;color: #696969;}#sk-container-id-5 label.sk-toggleable__label-arrow:hover:before {color: black;}#sk-container-id-5 div.sk-estimator:hover label.sk-toggleable__label-arrow:before {color: black;}#sk-container-id-5 div.sk-toggleable__content {max-height: 0;max-width: 0;overflow: hidden;text-align: left;background-color: #f0f8ff;}#sk-container-id-5 div.sk-toggleable__content pre {margin: 0.2em;color: black;border-radius: 0.25em;background-color: #f0f8ff;}#sk-container-id-5 input.sk-toggleable__control:checked~div.sk-toggleable__content {max-height: 200px;max-width: 100%;overflow: auto;}#sk-container-id-5 input.sk-toggleable__control:checked~label.sk-toggleable__label-arrow:before {content: \"▾\";}#sk-container-id-5 div.sk-estimator input.sk-toggleable__control:checked~label.sk-toggleable__label {background-color: #d4ebff;}#sk-container-id-5 div.sk-label input.sk-toggleable__control:checked~label.sk-toggleable__label {background-color: #d4ebff;}#sk-container-id-5 input.sk-hidden--visually {border: 0;clip: rect(1px 1px 1px 1px);clip: rect(1px, 1px, 1px, 1px);height: 1px;margin: -1px;overflow: hidden;padding: 0;position: absolute;width: 1px;}#sk-container-id-5 div.sk-estimator {font-family: monospace;background-color: #f0f8ff;border: 1px dotted black;border-radius: 0.25em;box-sizing: border-box;margin-bottom: 0.5em;}#sk-container-id-5 div.sk-estimator:hover {background-color: #d4ebff;}#sk-container-id-5 div.sk-parallel-item::after {content: \"\";width: 100%;border-bottom: 1px solid gray;flex-grow: 1;}#sk-container-id-5 div.sk-label:hover label.sk-toggleable__label {background-color: #d4ebff;}#sk-container-id-5 div.sk-serial::before {content: \"\";position: absolute;border-left: 1px solid gray;box-sizing: border-box;top: 0;bottom: 0;left: 50%;z-index: 0;}#sk-container-id-5 div.sk-serial {display: flex;flex-direction: column;align-items: center;background-color: white;padding-right: 0.2em;padding-left: 0.2em;position: relative;}#sk-container-id-5 div.sk-item {position: relative;z-index: 1;}#sk-container-id-5 div.sk-parallel {display: flex;align-items: stretch;justify-content: center;background-color: white;position: relative;}#sk-container-id-5 div.sk-item::before, #sk-container-id-5 div.sk-parallel-item::before {content: \"\";position: absolute;border-left: 1px solid gray;box-sizing: border-box;top: 0;bottom: 0;left: 50%;z-index: -1;}#sk-container-id-5 div.sk-parallel-item {display: flex;flex-direction: column;z-index: 1;position: relative;background-color: white;}#sk-container-id-5 div.sk-parallel-item:first-child::after {align-self: flex-end;width: 50%;}#sk-container-id-5 div.sk-parallel-item:last-child::after {align-self: flex-start;width: 50%;}#sk-container-id-5 div.sk-parallel-item:only-child::after {width: 0;}#sk-container-id-5 div.sk-dashed-wrapped {border: 1px dashed gray;margin: 0 0.4em 0.5em 0.4em;box-sizing: border-box;padding-bottom: 0.4em;background-color: white;}#sk-container-id-5 div.sk-label label {font-family: monospace;font-weight: bold;display: inline-block;line-height: 1.2em;}#sk-container-id-5 div.sk-label-container {text-align: center;}#sk-container-id-5 div.sk-container {/* jupyter's `normalize.less` sets `[hidden] { display: none; }` but bootstrap.min.css set `[hidden] { display: none !important; }` so we also need the `!important` here to be able to override the default hidden behavior on the sphinx rendered scikit-learn.org. See: https://github.com/scikit-learn/scikit-learn/issues/21755 */display: inline-block !important;position: relative;}#sk-container-id-5 div.sk-text-repr-fallback {display: none;}</style><div id=\"sk-container-id-5\" class=\"sk-top-container\"><div class=\"sk-text-repr-fallback\"><pre>XGBClassifier(base_score=None, booster=None, callbacks=None,\n",
       "              colsample_bylevel=None, colsample_bynode=None,\n",
       "              colsample_bytree=None, early_stopping_rounds=None,\n",
       "              enable_categorical=False, eval_metric=None, feature_types=None,\n",
       "              gamma=None, gpu_id=None, grow_policy=None, importance_type=None,\n",
       "              interaction_constraints=None, learning_rate=None, max_bin=None,\n",
       "              max_cat_threshold=None, max_cat_to_onehot=None,\n",
       "              max_delta_step=None, max_depth=None, max_leaves=None,\n",
       "              min_child_weight=None, missing=nan, monotone_constraints=None,\n",
       "              n_estimators=100, n_jobs=None, num_parallel_tree=None,\n",
       "              predictor=None, random_state=None, ...)</pre><b>In a Jupyter environment, please rerun this cell to show the HTML representation or trust the notebook. <br />On GitHub, the HTML representation is unable to render, please try loading this page with nbviewer.org.</b></div><div class=\"sk-container\" hidden><div class=\"sk-item\"><div class=\"sk-estimator sk-toggleable\"><input class=\"sk-toggleable__control sk-hidden--visually\" id=\"sk-estimator-id-7\" type=\"checkbox\" checked><label for=\"sk-estimator-id-7\" class=\"sk-toggleable__label sk-toggleable__label-arrow\">XGBClassifier</label><div class=\"sk-toggleable__content\"><pre>XGBClassifier(base_score=None, booster=None, callbacks=None,\n",
       "              colsample_bylevel=None, colsample_bynode=None,\n",
       "              colsample_bytree=None, early_stopping_rounds=None,\n",
       "              enable_categorical=False, eval_metric=None, feature_types=None,\n",
       "              gamma=None, gpu_id=None, grow_policy=None, importance_type=None,\n",
       "              interaction_constraints=None, learning_rate=None, max_bin=None,\n",
       "              max_cat_threshold=None, max_cat_to_onehot=None,\n",
       "              max_delta_step=None, max_depth=None, max_leaves=None,\n",
       "              min_child_weight=None, missing=nan, monotone_constraints=None,\n",
       "              n_estimators=100, n_jobs=None, num_parallel_tree=None,\n",
       "              predictor=None, random_state=None, ...)</pre></div></div></div></div></div>"
      ],
      "text/plain": [
       "XGBClassifier(base_score=None, booster=None, callbacks=None,\n",
       "              colsample_bylevel=None, colsample_bynode=None,\n",
       "              colsample_bytree=None, early_stopping_rounds=None,\n",
       "              enable_categorical=False, eval_metric=None, feature_types=None,\n",
       "              gamma=None, gpu_id=None, grow_policy=None, importance_type=None,\n",
       "              interaction_constraints=None, learning_rate=None, max_bin=None,\n",
       "              max_cat_threshold=None, max_cat_to_onehot=None,\n",
       "              max_delta_step=None, max_depth=None, max_leaves=None,\n",
       "              min_child_weight=None, missing=nan, monotone_constraints=None,\n",
       "              n_estimators=100, n_jobs=None, num_parallel_tree=None,\n",
       "              predictor=None, random_state=None, ...)"
      ]
     },
     "execution_count": 69,
     "metadata": {},
     "output_type": "execute_result"
    }
   ],
   "source": [
    "xgb_clf.fit(X_train,y_train)"
   ]
  },
  {
   "cell_type": "code",
   "execution_count": 70,
   "id": "c1a58034",
   "metadata": {
    "ExecuteTime": {
     "end_time": "2024-02-21T11:24:21.027611Z",
     "start_time": "2024-02-21T11:24:20.457476Z"
    }
   },
   "outputs": [],
   "source": [
    "xgb_pred = xgb_clf.predict(X_test)"
   ]
  },
  {
   "cell_type": "code",
   "execution_count": 71,
   "id": "96bef2e1",
   "metadata": {
    "ExecuteTime": {
     "end_time": "2024-02-21T11:24:22.502453Z",
     "start_time": "2024-02-21T11:24:21.756572Z"
    }
   },
   "outputs": [
    {
     "name": "stdout",
     "output_type": "stream",
     "text": [
      "              precision    recall  f1-score   support\n",
      "\n",
      "           0       1.00      1.00      1.00    552436\n",
      "           1       1.00      0.99      1.00      1646\n",
      "\n",
      "    accuracy                           1.00    554082\n",
      "   macro avg       1.00      1.00      1.00    554082\n",
      "weighted avg       1.00      1.00      1.00    554082\n",
      "\n"
     ]
    }
   ],
   "source": [
    "print(classification_report(y_test,xgb_pred))"
   ]
  },
  {
   "cell_type": "markdown",
   "id": "08b9fd6c",
   "metadata": {},
   "source": [
    "Hyperparameter Tuning With XGBoost Classifier "
   ]
  },
  {
   "cell_type": "code",
   "execution_count": 83,
   "id": "f4309653",
   "metadata": {
    "ExecuteTime": {
     "end_time": "2024-02-21T12:28:48.128858Z",
     "start_time": "2024-02-21T12:28:48.112978Z"
    }
   },
   "outputs": [],
   "source": [
    "from sklearn.model_selection import GridSearchCV\n",
    "param_grid = {\n",
    "    'n_estimators' : [100],\n",
    "    'max_depth' : [100,200],\n",
    "    'max_leaves' : [5,10],\n",
    "    'learning_rate' : [0.01,0.05],\n",
    "}\n",
    "\n",
    "xgb_model = GridSearchCV(xgb_clf,param_grid=param_grid,cv=2,scoring='f1',verbose=4)"
   ]
  },
  {
   "cell_type": "code",
   "execution_count": 84,
   "id": "3bca3074",
   "metadata": {
    "ExecuteTime": {
     "end_time": "2024-02-21T13:02:07.597565Z",
     "start_time": "2024-02-21T12:28:48.684066Z"
    }
   },
   "outputs": [
    {
     "name": "stdout",
     "output_type": "stream",
     "text": [
      "Fitting 2 folds for each of 8 candidates, totalling 16 fits\n",
      "[CV 1/2] END learning_rate=0.01, max_depth=100, max_leaves=5, n_estimators=100;, score=0.995 total time= 1.7min\n",
      "[CV 2/2] END learning_rate=0.01, max_depth=100, max_leaves=5, n_estimators=100;, score=0.995 total time= 1.7min\n",
      "[CV 1/2] END learning_rate=0.01, max_depth=100, max_leaves=10, n_estimators=100;, score=0.995 total time= 1.8min\n",
      "[CV 2/2] END learning_rate=0.01, max_depth=100, max_leaves=10, n_estimators=100;, score=0.995 total time= 1.7min\n",
      "[CV 1/2] END learning_rate=0.01, max_depth=200, max_leaves=5, n_estimators=100;, score=0.995 total time= 2.1min\n",
      "[CV 2/2] END learning_rate=0.01, max_depth=200, max_leaves=5, n_estimators=100;, score=0.995 total time= 1.8min\n",
      "[CV 1/2] END learning_rate=0.01, max_depth=200, max_leaves=10, n_estimators=100;, score=0.995 total time= 1.9min\n",
      "[CV 2/2] END learning_rate=0.01, max_depth=200, max_leaves=10, n_estimators=100;, score=0.995 total time= 1.8min\n",
      "[CV 1/2] END learning_rate=0.05, max_depth=100, max_leaves=5, n_estimators=100;, score=0.997 total time= 2.0min\n",
      "[CV 2/2] END learning_rate=0.05, max_depth=100, max_leaves=5, n_estimators=100;, score=0.996 total time= 1.8min\n",
      "[CV 1/2] END learning_rate=0.05, max_depth=100, max_leaves=10, n_estimators=100;, score=0.997 total time= 1.8min\n",
      "[CV 2/2] END learning_rate=0.05, max_depth=100, max_leaves=10, n_estimators=100;, score=0.996 total time= 1.8min\n",
      "[CV 1/2] END learning_rate=0.05, max_depth=200, max_leaves=5, n_estimators=100;, score=0.997 total time= 1.7min\n",
      "[CV 2/2] END learning_rate=0.05, max_depth=200, max_leaves=5, n_estimators=100;, score=0.996 total time= 1.8min\n",
      "[CV 1/2] END learning_rate=0.05, max_depth=200, max_leaves=10, n_estimators=100;, score=0.997 total time= 1.8min\n",
      "[CV 2/2] END learning_rate=0.05, max_depth=200, max_leaves=10, n_estimators=100;, score=0.996 total time= 1.9min\n"
     ]
    },
    {
     "data": {
      "text/html": [
       "<style>#sk-container-id-6 {color: black;}#sk-container-id-6 pre{padding: 0;}#sk-container-id-6 div.sk-toggleable {background-color: white;}#sk-container-id-6 label.sk-toggleable__label {cursor: pointer;display: block;width: 100%;margin-bottom: 0;padding: 0.3em;box-sizing: border-box;text-align: center;}#sk-container-id-6 label.sk-toggleable__label-arrow:before {content: \"▸\";float: left;margin-right: 0.25em;color: #696969;}#sk-container-id-6 label.sk-toggleable__label-arrow:hover:before {color: black;}#sk-container-id-6 div.sk-estimator:hover label.sk-toggleable__label-arrow:before {color: black;}#sk-container-id-6 div.sk-toggleable__content {max-height: 0;max-width: 0;overflow: hidden;text-align: left;background-color: #f0f8ff;}#sk-container-id-6 div.sk-toggleable__content pre {margin: 0.2em;color: black;border-radius: 0.25em;background-color: #f0f8ff;}#sk-container-id-6 input.sk-toggleable__control:checked~div.sk-toggleable__content {max-height: 200px;max-width: 100%;overflow: auto;}#sk-container-id-6 input.sk-toggleable__control:checked~label.sk-toggleable__label-arrow:before {content: \"▾\";}#sk-container-id-6 div.sk-estimator input.sk-toggleable__control:checked~label.sk-toggleable__label {background-color: #d4ebff;}#sk-container-id-6 div.sk-label input.sk-toggleable__control:checked~label.sk-toggleable__label {background-color: #d4ebff;}#sk-container-id-6 input.sk-hidden--visually {border: 0;clip: rect(1px 1px 1px 1px);clip: rect(1px, 1px, 1px, 1px);height: 1px;margin: -1px;overflow: hidden;padding: 0;position: absolute;width: 1px;}#sk-container-id-6 div.sk-estimator {font-family: monospace;background-color: #f0f8ff;border: 1px dotted black;border-radius: 0.25em;box-sizing: border-box;margin-bottom: 0.5em;}#sk-container-id-6 div.sk-estimator:hover {background-color: #d4ebff;}#sk-container-id-6 div.sk-parallel-item::after {content: \"\";width: 100%;border-bottom: 1px solid gray;flex-grow: 1;}#sk-container-id-6 div.sk-label:hover label.sk-toggleable__label {background-color: #d4ebff;}#sk-container-id-6 div.sk-serial::before {content: \"\";position: absolute;border-left: 1px solid gray;box-sizing: border-box;top: 0;bottom: 0;left: 50%;z-index: 0;}#sk-container-id-6 div.sk-serial {display: flex;flex-direction: column;align-items: center;background-color: white;padding-right: 0.2em;padding-left: 0.2em;position: relative;}#sk-container-id-6 div.sk-item {position: relative;z-index: 1;}#sk-container-id-6 div.sk-parallel {display: flex;align-items: stretch;justify-content: center;background-color: white;position: relative;}#sk-container-id-6 div.sk-item::before, #sk-container-id-6 div.sk-parallel-item::before {content: \"\";position: absolute;border-left: 1px solid gray;box-sizing: border-box;top: 0;bottom: 0;left: 50%;z-index: -1;}#sk-container-id-6 div.sk-parallel-item {display: flex;flex-direction: column;z-index: 1;position: relative;background-color: white;}#sk-container-id-6 div.sk-parallel-item:first-child::after {align-self: flex-end;width: 50%;}#sk-container-id-6 div.sk-parallel-item:last-child::after {align-self: flex-start;width: 50%;}#sk-container-id-6 div.sk-parallel-item:only-child::after {width: 0;}#sk-container-id-6 div.sk-dashed-wrapped {border: 1px dashed gray;margin: 0 0.4em 0.5em 0.4em;box-sizing: border-box;padding-bottom: 0.4em;background-color: white;}#sk-container-id-6 div.sk-label label {font-family: monospace;font-weight: bold;display: inline-block;line-height: 1.2em;}#sk-container-id-6 div.sk-label-container {text-align: center;}#sk-container-id-6 div.sk-container {/* jupyter's `normalize.less` sets `[hidden] { display: none; }` but bootstrap.min.css set `[hidden] { display: none !important; }` so we also need the `!important` here to be able to override the default hidden behavior on the sphinx rendered scikit-learn.org. See: https://github.com/scikit-learn/scikit-learn/issues/21755 */display: inline-block !important;position: relative;}#sk-container-id-6 div.sk-text-repr-fallback {display: none;}</style><div id=\"sk-container-id-6\" class=\"sk-top-container\"><div class=\"sk-text-repr-fallback\"><pre>GridSearchCV(cv=2,\n",
       "             estimator=XGBClassifier(base_score=None, booster=None,\n",
       "                                     callbacks=None, colsample_bylevel=None,\n",
       "                                     colsample_bynode=None,\n",
       "                                     colsample_bytree=None,\n",
       "                                     early_stopping_rounds=None,\n",
       "                                     enable_categorical=False, eval_metric=None,\n",
       "                                     feature_types=None, gamma=None,\n",
       "                                     gpu_id=None, grow_policy=None,\n",
       "                                     importance_type=None,\n",
       "                                     interaction_constraints=None,\n",
       "                                     learning_rate=None,...\n",
       "                                     max_cat_to_onehot=None,\n",
       "                                     max_delta_step=None, max_depth=None,\n",
       "                                     max_leaves=None, min_child_weight=None,\n",
       "                                     missing=nan, monotone_constraints=None,\n",
       "                                     n_estimators=100, n_jobs=None,\n",
       "                                     num_parallel_tree=None, predictor=None,\n",
       "                                     random_state=None, ...),\n",
       "             param_grid={&#x27;learning_rate&#x27;: [0.01, 0.05], &#x27;max_depth&#x27;: [100, 200],\n",
       "                         &#x27;max_leaves&#x27;: [5, 10], &#x27;n_estimators&#x27;: [100]},\n",
       "             scoring=&#x27;f1&#x27;, verbose=4)</pre><b>In a Jupyter environment, please rerun this cell to show the HTML representation or trust the notebook. <br />On GitHub, the HTML representation is unable to render, please try loading this page with nbviewer.org.</b></div><div class=\"sk-container\" hidden><div class=\"sk-item sk-dashed-wrapped\"><div class=\"sk-label-container\"><div class=\"sk-label sk-toggleable\"><input class=\"sk-toggleable__control sk-hidden--visually\" id=\"sk-estimator-id-8\" type=\"checkbox\" ><label for=\"sk-estimator-id-8\" class=\"sk-toggleable__label sk-toggleable__label-arrow\">GridSearchCV</label><div class=\"sk-toggleable__content\"><pre>GridSearchCV(cv=2,\n",
       "             estimator=XGBClassifier(base_score=None, booster=None,\n",
       "                                     callbacks=None, colsample_bylevel=None,\n",
       "                                     colsample_bynode=None,\n",
       "                                     colsample_bytree=None,\n",
       "                                     early_stopping_rounds=None,\n",
       "                                     enable_categorical=False, eval_metric=None,\n",
       "                                     feature_types=None, gamma=None,\n",
       "                                     gpu_id=None, grow_policy=None,\n",
       "                                     importance_type=None,\n",
       "                                     interaction_constraints=None,\n",
       "                                     learning_rate=None,...\n",
       "                                     max_cat_to_onehot=None,\n",
       "                                     max_delta_step=None, max_depth=None,\n",
       "                                     max_leaves=None, min_child_weight=None,\n",
       "                                     missing=nan, monotone_constraints=None,\n",
       "                                     n_estimators=100, n_jobs=None,\n",
       "                                     num_parallel_tree=None, predictor=None,\n",
       "                                     random_state=None, ...),\n",
       "             param_grid={&#x27;learning_rate&#x27;: [0.01, 0.05], &#x27;max_depth&#x27;: [100, 200],\n",
       "                         &#x27;max_leaves&#x27;: [5, 10], &#x27;n_estimators&#x27;: [100]},\n",
       "             scoring=&#x27;f1&#x27;, verbose=4)</pre></div></div></div><div class=\"sk-parallel\"><div class=\"sk-parallel-item\"><div class=\"sk-item\"><div class=\"sk-label-container\"><div class=\"sk-label sk-toggleable\"><input class=\"sk-toggleable__control sk-hidden--visually\" id=\"sk-estimator-id-9\" type=\"checkbox\" ><label for=\"sk-estimator-id-9\" class=\"sk-toggleable__label sk-toggleable__label-arrow\">estimator: XGBClassifier</label><div class=\"sk-toggleable__content\"><pre>XGBClassifier(base_score=None, booster=None, callbacks=None,\n",
       "              colsample_bylevel=None, colsample_bynode=None,\n",
       "              colsample_bytree=None, early_stopping_rounds=None,\n",
       "              enable_categorical=False, eval_metric=None, feature_types=None,\n",
       "              gamma=None, gpu_id=None, grow_policy=None, importance_type=None,\n",
       "              interaction_constraints=None, learning_rate=None, max_bin=None,\n",
       "              max_cat_threshold=None, max_cat_to_onehot=None,\n",
       "              max_delta_step=None, max_depth=None, max_leaves=None,\n",
       "              min_child_weight=None, missing=nan, monotone_constraints=None,\n",
       "              n_estimators=100, n_jobs=None, num_parallel_tree=None,\n",
       "              predictor=None, random_state=None, ...)</pre></div></div></div><div class=\"sk-serial\"><div class=\"sk-item\"><div class=\"sk-estimator sk-toggleable\"><input class=\"sk-toggleable__control sk-hidden--visually\" id=\"sk-estimator-id-10\" type=\"checkbox\" ><label for=\"sk-estimator-id-10\" class=\"sk-toggleable__label sk-toggleable__label-arrow\">XGBClassifier</label><div class=\"sk-toggleable__content\"><pre>XGBClassifier(base_score=None, booster=None, callbacks=None,\n",
       "              colsample_bylevel=None, colsample_bynode=None,\n",
       "              colsample_bytree=None, early_stopping_rounds=None,\n",
       "              enable_categorical=False, eval_metric=None, feature_types=None,\n",
       "              gamma=None, gpu_id=None, grow_policy=None, importance_type=None,\n",
       "              interaction_constraints=None, learning_rate=None, max_bin=None,\n",
       "              max_cat_threshold=None, max_cat_to_onehot=None,\n",
       "              max_delta_step=None, max_depth=None, max_leaves=None,\n",
       "              min_child_weight=None, missing=nan, monotone_constraints=None,\n",
       "              n_estimators=100, n_jobs=None, num_parallel_tree=None,\n",
       "              predictor=None, random_state=None, ...)</pre></div></div></div></div></div></div></div></div></div></div>"
      ],
      "text/plain": [
       "GridSearchCV(cv=2,\n",
       "             estimator=XGBClassifier(base_score=None, booster=None,\n",
       "                                     callbacks=None, colsample_bylevel=None,\n",
       "                                     colsample_bynode=None,\n",
       "                                     colsample_bytree=None,\n",
       "                                     early_stopping_rounds=None,\n",
       "                                     enable_categorical=False, eval_metric=None,\n",
       "                                     feature_types=None, gamma=None,\n",
       "                                     gpu_id=None, grow_policy=None,\n",
       "                                     importance_type=None,\n",
       "                                     interaction_constraints=None,\n",
       "                                     learning_rate=None,...\n",
       "                                     max_cat_to_onehot=None,\n",
       "                                     max_delta_step=None, max_depth=None,\n",
       "                                     max_leaves=None, min_child_weight=None,\n",
       "                                     missing=nan, monotone_constraints=None,\n",
       "                                     n_estimators=100, n_jobs=None,\n",
       "                                     num_parallel_tree=None, predictor=None,\n",
       "                                     random_state=None, ...),\n",
       "             param_grid={'learning_rate': [0.01, 0.05], 'max_depth': [100, 200],\n",
       "                         'max_leaves': [5, 10], 'n_estimators': [100]},\n",
       "             scoring='f1', verbose=4)"
      ]
     },
     "execution_count": 84,
     "metadata": {},
     "output_type": "execute_result"
    }
   ],
   "source": [
    "xgb_model.fit(X_train,y_train)"
   ]
  },
  {
   "cell_type": "markdown",
   "id": "64a46e2d",
   "metadata": {},
   "source": [
    "### Model Traning, Testing And Evaluation "
   ]
  },
  {
   "cell_type": "code",
   "execution_count": 86,
   "id": "c7371479",
   "metadata": {
    "ExecuteTime": {
     "end_time": "2024-02-21T13:09:21.440408Z",
     "start_time": "2024-02-21T13:09:21.420000Z"
    }
   },
   "outputs": [
    {
     "data": {
      "text/plain": [
       "{'learning_rate': 0.05, 'max_depth': 100, 'max_leaves': 5, 'n_estimators': 100}"
      ]
     },
     "execution_count": 86,
     "metadata": {},
     "output_type": "execute_result"
    }
   ],
   "source": [
    "xgb_model.best_params_"
   ]
  },
  {
   "cell_type": "code",
   "execution_count": 89,
   "id": "4a7d2f9d",
   "metadata": {
    "ExecuteTime": {
     "end_time": "2024-02-21T13:10:38.786530Z",
     "start_time": "2024-02-21T13:10:38.772513Z"
    }
   },
   "outputs": [],
   "source": [
    "best_model = xgb_model.best_estimator_"
   ]
  },
  {
   "cell_type": "code",
   "execution_count": 91,
   "id": "c3fe6374",
   "metadata": {
    "ExecuteTime": {
     "end_time": "2024-02-21T13:14:45.521746Z",
     "start_time": "2024-02-21T13:11:00.070583Z"
    }
   },
   "outputs": [
    {
     "data": {
      "text/html": [
       "<style>#sk-container-id-8 {color: black;}#sk-container-id-8 pre{padding: 0;}#sk-container-id-8 div.sk-toggleable {background-color: white;}#sk-container-id-8 label.sk-toggleable__label {cursor: pointer;display: block;width: 100%;margin-bottom: 0;padding: 0.3em;box-sizing: border-box;text-align: center;}#sk-container-id-8 label.sk-toggleable__label-arrow:before {content: \"▸\";float: left;margin-right: 0.25em;color: #696969;}#sk-container-id-8 label.sk-toggleable__label-arrow:hover:before {color: black;}#sk-container-id-8 div.sk-estimator:hover label.sk-toggleable__label-arrow:before {color: black;}#sk-container-id-8 div.sk-toggleable__content {max-height: 0;max-width: 0;overflow: hidden;text-align: left;background-color: #f0f8ff;}#sk-container-id-8 div.sk-toggleable__content pre {margin: 0.2em;color: black;border-radius: 0.25em;background-color: #f0f8ff;}#sk-container-id-8 input.sk-toggleable__control:checked~div.sk-toggleable__content {max-height: 200px;max-width: 100%;overflow: auto;}#sk-container-id-8 input.sk-toggleable__control:checked~label.sk-toggleable__label-arrow:before {content: \"▾\";}#sk-container-id-8 div.sk-estimator input.sk-toggleable__control:checked~label.sk-toggleable__label {background-color: #d4ebff;}#sk-container-id-8 div.sk-label input.sk-toggleable__control:checked~label.sk-toggleable__label {background-color: #d4ebff;}#sk-container-id-8 input.sk-hidden--visually {border: 0;clip: rect(1px 1px 1px 1px);clip: rect(1px, 1px, 1px, 1px);height: 1px;margin: -1px;overflow: hidden;padding: 0;position: absolute;width: 1px;}#sk-container-id-8 div.sk-estimator {font-family: monospace;background-color: #f0f8ff;border: 1px dotted black;border-radius: 0.25em;box-sizing: border-box;margin-bottom: 0.5em;}#sk-container-id-8 div.sk-estimator:hover {background-color: #d4ebff;}#sk-container-id-8 div.sk-parallel-item::after {content: \"\";width: 100%;border-bottom: 1px solid gray;flex-grow: 1;}#sk-container-id-8 div.sk-label:hover label.sk-toggleable__label {background-color: #d4ebff;}#sk-container-id-8 div.sk-serial::before {content: \"\";position: absolute;border-left: 1px solid gray;box-sizing: border-box;top: 0;bottom: 0;left: 50%;z-index: 0;}#sk-container-id-8 div.sk-serial {display: flex;flex-direction: column;align-items: center;background-color: white;padding-right: 0.2em;padding-left: 0.2em;position: relative;}#sk-container-id-8 div.sk-item {position: relative;z-index: 1;}#sk-container-id-8 div.sk-parallel {display: flex;align-items: stretch;justify-content: center;background-color: white;position: relative;}#sk-container-id-8 div.sk-item::before, #sk-container-id-8 div.sk-parallel-item::before {content: \"\";position: absolute;border-left: 1px solid gray;box-sizing: border-box;top: 0;bottom: 0;left: 50%;z-index: -1;}#sk-container-id-8 div.sk-parallel-item {display: flex;flex-direction: column;z-index: 1;position: relative;background-color: white;}#sk-container-id-8 div.sk-parallel-item:first-child::after {align-self: flex-end;width: 50%;}#sk-container-id-8 div.sk-parallel-item:last-child::after {align-self: flex-start;width: 50%;}#sk-container-id-8 div.sk-parallel-item:only-child::after {width: 0;}#sk-container-id-8 div.sk-dashed-wrapped {border: 1px dashed gray;margin: 0 0.4em 0.5em 0.4em;box-sizing: border-box;padding-bottom: 0.4em;background-color: white;}#sk-container-id-8 div.sk-label label {font-family: monospace;font-weight: bold;display: inline-block;line-height: 1.2em;}#sk-container-id-8 div.sk-label-container {text-align: center;}#sk-container-id-8 div.sk-container {/* jupyter's `normalize.less` sets `[hidden] { display: none; }` but bootstrap.min.css set `[hidden] { display: none !important; }` so we also need the `!important` here to be able to override the default hidden behavior on the sphinx rendered scikit-learn.org. See: https://github.com/scikit-learn/scikit-learn/issues/21755 */display: inline-block !important;position: relative;}#sk-container-id-8 div.sk-text-repr-fallback {display: none;}</style><div id=\"sk-container-id-8\" class=\"sk-top-container\"><div class=\"sk-text-repr-fallback\"><pre>XGBClassifier(base_score=None, booster=None, callbacks=None,\n",
       "              colsample_bylevel=None, colsample_bynode=None,\n",
       "              colsample_bytree=None, early_stopping_rounds=None,\n",
       "              enable_categorical=False, eval_metric=None, feature_types=None,\n",
       "              gamma=None, gpu_id=None, grow_policy=None, importance_type=None,\n",
       "              interaction_constraints=None, learning_rate=0.05, max_bin=None,\n",
       "              max_cat_threshold=None, max_cat_to_onehot=None,\n",
       "              max_delta_step=None, max_depth=100, max_leaves=5,\n",
       "              min_child_weight=None, missing=nan, monotone_constraints=None,\n",
       "              n_estimators=100, n_jobs=None, num_parallel_tree=None,\n",
       "              predictor=None, random_state=None, ...)</pre><b>In a Jupyter environment, please rerun this cell to show the HTML representation or trust the notebook. <br />On GitHub, the HTML representation is unable to render, please try loading this page with nbviewer.org.</b></div><div class=\"sk-container\" hidden><div class=\"sk-item\"><div class=\"sk-estimator sk-toggleable\"><input class=\"sk-toggleable__control sk-hidden--visually\" id=\"sk-estimator-id-12\" type=\"checkbox\" checked><label for=\"sk-estimator-id-12\" class=\"sk-toggleable__label sk-toggleable__label-arrow\">XGBClassifier</label><div class=\"sk-toggleable__content\"><pre>XGBClassifier(base_score=None, booster=None, callbacks=None,\n",
       "              colsample_bylevel=None, colsample_bynode=None,\n",
       "              colsample_bytree=None, early_stopping_rounds=None,\n",
       "              enable_categorical=False, eval_metric=None, feature_types=None,\n",
       "              gamma=None, gpu_id=None, grow_policy=None, importance_type=None,\n",
       "              interaction_constraints=None, learning_rate=0.05, max_bin=None,\n",
       "              max_cat_threshold=None, max_cat_to_onehot=None,\n",
       "              max_delta_step=None, max_depth=100, max_leaves=5,\n",
       "              min_child_weight=None, missing=nan, monotone_constraints=None,\n",
       "              n_estimators=100, n_jobs=None, num_parallel_tree=None,\n",
       "              predictor=None, random_state=None, ...)</pre></div></div></div></div></div>"
      ],
      "text/plain": [
       "XGBClassifier(base_score=None, booster=None, callbacks=None,\n",
       "              colsample_bylevel=None, colsample_bynode=None,\n",
       "              colsample_bytree=None, early_stopping_rounds=None,\n",
       "              enable_categorical=False, eval_metric=None, feature_types=None,\n",
       "              gamma=None, gpu_id=None, grow_policy=None, importance_type=None,\n",
       "              interaction_constraints=None, learning_rate=0.05, max_bin=None,\n",
       "              max_cat_threshold=None, max_cat_to_onehot=None,\n",
       "              max_delta_step=None, max_depth=100, max_leaves=5,\n",
       "              min_child_weight=None, missing=nan, monotone_constraints=None,\n",
       "              n_estimators=100, n_jobs=None, num_parallel_tree=None,\n",
       "              predictor=None, random_state=None, ...)"
      ]
     },
     "execution_count": 91,
     "metadata": {},
     "output_type": "execute_result"
    }
   ],
   "source": [
    "best_model.fit(X_train,y_train)"
   ]
  },
  {
   "cell_type": "markdown",
   "id": "10c5d831",
   "metadata": {},
   "source": [
    "Model Evaluation "
   ]
  },
  {
   "cell_type": "code",
   "execution_count": 140,
   "id": "9a7e12f1",
   "metadata": {
    "ExecuteTime": {
     "end_time": "2024-02-21T14:21:25.409231Z",
     "start_time": "2024-02-21T14:21:24.636645Z"
    }
   },
   "outputs": [],
   "source": [
    "xgb_prediction = best_model.predict(X_test)\n",
    "xgb_prob = best_model.predict_proba(X_test)"
   ]
  },
  {
   "cell_type": "code",
   "execution_count": 154,
   "id": "f0ba37d3",
   "metadata": {
    "ExecuteTime": {
     "end_time": "2024-02-21T14:49:23.364930Z",
     "start_time": "2024-02-21T14:49:21.390589Z"
    }
   },
   "outputs": [
    {
     "name": "stdout",
     "output_type": "stream",
     "text": [
      "\n",
      "Accuracy Score for the XGB Classifier Model  :  0.9999765377687779\n",
      "\n",
      "Precision Score for the XGB Classifier Model :  0.999388379204893\n",
      "\n",
      "Recall Score for the XGB Classifier Model    :  0.9927095990279465\n",
      "\n",
      "F1 score for the XGB Classifier Model        :  0.9960377933556843\n",
      "\n",
      "Classification Report                        :\n",
      "               precision    recall  f1-score   support\n",
      "\n",
      "           0       1.00      1.00      1.00    552436\n",
      "           1       1.00      0.99      1.00      1646\n",
      "\n",
      "    accuracy                           1.00    554082\n",
      "   macro avg       1.00      1.00      1.00    554082\n",
      "weighted avg       1.00      1.00      1.00    554082\n",
      "\n",
      "\n",
      "confusion Matrix                             :\n",
      " [[552435      1]\n",
      " [    12   1634]]\n"
     ]
    },
    {
     "data": {
      "image/png": "[encoded data removed]",
      "text/plain": [
       "<Figure size 640x480 with 2 Axes>"
      ]
     },
     "metadata": {},
     "output_type": "display_data"
    },
    {
     "data": {
      "image/png": "[encoded data removed]",
      "text/plain": [
       "<Figure size 800x600 with 1 Axes>"
      ]
     },
     "metadata": {},
     "output_type": "display_data"
    }
   ],
   "source": [
    "print('\\nAccuracy Score for the XGB Classifier Model  : ',accuracy_score(y_test,xgb_prediction))\n",
    "print('\\nPrecision Score for the XGB Classifier Model : ',precision_score(y_test,xgb_prediction))\n",
    "print('\\nRecall Score for the XGB Classifier Model    : ',recall_score(y_test,xgb_prediction))\n",
    "print('\\nF1 score for the XGB Classifier Model        : ',f1_score(y_test,xgb_prediction))\n",
    "print('\\nClassification Report                        :\\n', classification_report(y_test,xgb_prediction))\n",
    "print('\\nconfusion Matrix                             :\\n',confusion_matrix(y_test,xgb_prediction))\n",
    "\n",
    "sns.heatmap(confusion_matrix(y_test,xgb_prediction),annot=True)\n",
    "from sklearn.metrics import roc_auc_score, roc_curve\n",
    "import matplotlib.pyplot as plt\n",
    "auc = roc_auc_score(y_test, xgb_prob[:, 1])\n",
    "\n",
    "# Calculate ROC curve\n",
    "fpr, tpr, thresholds = roc_curve(y_test, xgb_prob[:, 1])\n",
    "\n",
    "# Plot ROC curve\n",
    "plt.figure(figsize=(8, 6))\n",
    "plt.plot(fpr, tpr, color='blue', lw=2, label='ROC curve (AUC = {:.2f})'.format(auc))\n",
    "plt.plot([0, 1], [0, 1], color='gray', linestyle='--')\n",
    "plt.xlim([0.0, 1.0])\n",
    "plt.ylim([0.0, 1.05])\n",
    "plt.xlabel('False Positive Rate')\n",
    "plt.ylabel('True Positive Rate')\n",
    "plt.title('Receiver Operating Characteristic (ROC) Curve')\n",
    "plt.legend(loc='lower right')\n",
    "plt.show()"
   ]
  },
  {
   "cell_type": "code",
   "execution_count": 151,
   "id": "0ab95bc7",
   "metadata": {
    "ExecuteTime": {
     "end_time": "2024-02-21T14:38:31.394624Z",
     "start_time": "2024-02-21T14:38:31.212633Z"
    }
   },
   "outputs": [
    {
     "data": {
      "image/png": "[encoded data removed]",
      "text/plain": [
       "<Figure size 800x600 with 1 Axes>"
      ]
     },
     "metadata": {},
     "output_type": "display_data"
    }
   ],
   "source": [
    "precision, recall, thresholds = precision_recall_curve(y_test, xgb_prob[:, 1])\n",
    "\n",
    "# Plot precision-recall curve\n",
    "plt.figure(figsize=(8, 6))\n",
    "plt.plot(recall, precision, color='blue', lw=2)\n",
    "plt.xlabel('Recall')\n",
    "plt.ylabel('Precision')\n",
    "plt.title('Precision-Recall Curve')\n",
    "plt.grid(True)\n",
    "plt.show()"
   ]
  },
  {
   "cell_type": "markdown",
   "id": "6a7f698a",
   "metadata": {},
   "source": [
    "XGBoost classifier model appears to perform exceptionally well on the dataset, achieving high accuracy, precision, recall, and F1-score. Here are some key points to highlight model performance:\n",
    "\n",
    "High Accuracy: The model achieves an accuracy score of approximately 99.99%, indicating that it correctly classifies the vast majority of transactions as either fraudulent or non-fraudulent.\n",
    "\n",
    "High Precision: The precision score of approximately 99.94% suggests that when the model predicts a transaction as fraudulent, it is correct almost every time. This indicates a low rate of false positives, where legitimate transactions are incorrectly flagged as fraudulent.\n",
    "\n",
    "High Recall: The recall score of approximately 99.27% indicates that the model captures a high proportion of actual fraudulent transactions. It correctly identifies the vast majority of fraudulent transactions in the dataset.\n",
    "\n",
    "High F1-score: The F1-score, which is the harmonic mean of precision and recall, is approximately 99.60%. This score balances the trade-off between precision and recall, providing a single metric to evaluate the model's overall performance.\n",
    "\n",
    "Confusion Matrix: The confusion matrix provides a detailed breakdown of the model's predictions, showing the number of true positives, true negatives, false positives, and false negatives. In this case, there are very few false positives and false negatives, indicating strong performance.\n",
    "\n",
    "Imbalance Handling: Since fraud detection often deals with imbalanced datasets (where fraudulent transactions are rare compared to legitimate ones), it's important to ensure that the model performs well on both classes. Your model seems to handle this imbalance effectively, as evidenced by the classification report and confusion matrix.\n",
    "\n",
    "Overall, XGBoost classifier model demonstrates excellent performance in detecting fraudulent transactions, with high accuracy, precision, recall, and F1-score. These results suggest that the model is well-suited for fraud detection tasks and can effectively distinguish between legitimate and fraudulent transactions."
   ]
  },
  {
   "cell_type": "markdown",
   "id": "14aa00ce",
   "metadata": {},
   "source": [
    "### Undersampling to Balance the Data"
   ]
  },
  {
   "cell_type": "code",
   "execution_count": 122,
   "id": "7afe0cdf",
   "metadata": {
    "ExecuteTime": {
     "end_time": "2024-02-21T13:49:12.806892Z",
     "start_time": "2024-02-21T13:49:12.198839Z"
    }
   },
   "outputs": [],
   "source": [
    "from imblearn.under_sampling import RandomUnderSampler\n",
    "\n",
    "undersampling_ratio = {0: 8213}  # Set the number of samples for the majority class to be equal to the minority class\n",
    "\n",
    "rus = RandomUnderSampler(sampling_strategy=undersampling_ratio, random_state=42)\n",
    "\n",
    "X_resampled, y_resampled = rus.fit_resample(X, y)"
   ]
  },
  {
   "cell_type": "code",
   "execution_count": 123,
   "id": "863271b3",
   "metadata": {
    "ExecuteTime": {
     "end_time": "2024-02-21T13:49:13.350819Z",
     "start_time": "2024-02-21T13:49:13.337300Z"
    }
   },
   "outputs": [
    {
     "name": "stdout",
     "output_type": "stream",
     "text": [
      "X resampled shape :  (16426, 10)\n",
      "y resampled shape :  (16426,)\n"
     ]
    }
   ],
   "source": [
    "print('X resampled shape : ',X_resampled.shape)\n",
    "print('y resampled shape : ',y_resampled.shape)"
   ]
  },
  {
   "cell_type": "code",
   "execution_count": 124,
   "id": "b3ea05e5",
   "metadata": {
    "ExecuteTime": {
     "end_time": "2024-02-21T13:49:16.901213Z",
     "start_time": "2024-02-21T13:49:16.882934Z"
    }
   },
   "outputs": [
    {
     "data": {
      "text/plain": [
       "0    8213\n",
       "1    8213\n",
       "Name: isFraud, dtype: int64"
      ]
     },
     "execution_count": 124,
     "metadata": {},
     "output_type": "execute_result"
    }
   ],
   "source": [
    "y_resampled.value_counts()"
   ]
  },
  {
   "cell_type": "code",
   "execution_count": 125,
   "id": "1613c852",
   "metadata": {
    "ExecuteTime": {
     "end_time": "2024-02-21T13:49:30.873440Z",
     "start_time": "2024-02-21T13:49:30.854915Z"
    }
   },
   "outputs": [],
   "source": [
    "X_train_resample, X_test_resample, y_train_resample, y_test_resample = train_test_split(X_resampled,y_resampled, test_size = 0.2, random_state = 42)"
   ]
  },
  {
   "cell_type": "code",
   "execution_count": 133,
   "id": "7dedf382",
   "metadata": {
    "ExecuteTime": {
     "end_time": "2024-02-21T13:59:51.806506Z",
     "start_time": "2024-02-21T13:59:48.686156Z"
    }
   },
   "outputs": [
    {
     "name": "stdout",
     "output_type": "stream",
     "text": [
      "              precision    recall  f1-score   support\n",
      "\n",
      "           0       1.00      1.00      1.00      1649\n",
      "           1       1.00      1.00      1.00      1637\n",
      "\n",
      "    accuracy                           1.00      3286\n",
      "   macro avg       1.00      1.00      1.00      3286\n",
      "weighted avg       1.00      1.00      1.00      3286\n",
      "\n"
     ]
    }
   ],
   "source": [
    "rf_clf.fit(X_train_resample,y_train_resample)\n",
    "\n",
    "rf_pred = rf_clf.predict(X_test_resample)\n",
    "print(classification_report(y_test_resample,rf_pred))"
   ]
  },
  {
   "cell_type": "code",
   "execution_count": null,
   "id": "7d9a6695",
   "metadata": {
    "ExecuteTime": {
     "start_time": "2024-02-21T14:58:01.941Z"
    }
   },
   "outputs": [
    {
     "name": "stdout",
     "output_type": "stream",
     "text": [
      "Fitting 5 folds for each of 216 candidates, totalling 1080 fits\n"
     ]
    }
   ],
   "source": [
    "from sklearn.ensemble import RandomForestClassifier\n",
    "rf_clf = RandomForestClassifier()\n",
    "\n",
    "parameters = {'n_estimators':[100,200],\n",
    "    'criterion' : ['gini','entropy'],\n",
    "    'max_depth' : [100,200,300],\n",
    "    'min_samples_split' : [5,10,20],\n",
    "    'min_samples_leaf' : [1, 2, 5],\n",
    "    'max_leaf_nodes' : [1, 2],\n",
    "    'bootstrap' : [True],\n",
    "    'oob_score' : [True],\n",
    "}\n",
    "\n",
    "rf_model = GridSearchCV(rf_clf,param_grid=parameters,cv=5,verbose=1)\n",
    "rf_model.fit(X_train_resample,y_train_resample)"
   ]
  },
  {
   "cell_type": "code",
   "execution_count": 138,
   "id": "05ff1062",
   "metadata": {
    "ExecuteTime": {
     "end_time": "2024-02-21T14:19:01.083629Z",
     "start_time": "2024-02-21T14:19:01.067604Z"
    }
   },
   "outputs": [
    {
     "name": "stdout",
     "output_type": "stream",
     "text": [
      "best parameters :  {'bootstrap': True, 'criterion': 'entropy', 'max_depth': 200, 'max_leaf_nodes': 2, 'min_samples_leaf': 1, 'min_samples_split': 10, 'n_estimators': 200, 'oob_score': True}\n",
      "best score      :  0.9410958904109588\n"
     ]
    }
   ],
   "source": [
    "print('best parameters : ',rf_model.best_params_)\n",
    "print('best score      : ',rf_model.best_score_)\n",
    "rf_classifier = rf_model.best_estimator_"
   ]
  },
  {
   "cell_type": "code",
   "execution_count": 143,
   "id": "6423430a",
   "metadata": {
    "ExecuteTime": {
     "end_time": "2024-02-21T14:24:00.990049Z",
     "start_time": "2024-02-21T14:23:57.964211Z"
    }
   },
   "outputs": [],
   "source": [
    "rf_classifier.fit(X_train_resample,y_train_resample)\n",
    "rf_prediction_resampled = rf_classifier.predict(X_test_resample)\n",
    "rf_prob = rf_classifier.predict_proba(X_test_resample)"
   ]
  },
  {
   "cell_type": "code",
   "execution_count": 155,
   "id": "452b36ad",
   "metadata": {
    "ExecuteTime": {
     "end_time": "2024-02-21T14:49:50.015257Z",
     "start_time": "2024-02-21T14:49:49.717445Z"
    }
   },
   "outputs": [
    {
     "name": "stdout",
     "output_type": "stream",
     "text": [
      "\n",
      "Accuracy Score for the XGB Classifier Model  :  0.9339622641509434\n",
      "\n",
      "Precision Score for the XGB Classifier Model :  0.9186320754716981\n",
      "\n",
      "Recall Score for the XGB Classifier Model    :  0.9517409896151496\n",
      "\n",
      "F1 score for the XGB Classifier Model        :  0.9348934893489349\n",
      "\n",
      "Classification Report                        :\n",
      "               precision    recall  f1-score   support\n",
      "\n",
      "           0       0.95      0.92      0.93      1649\n",
      "           1       0.92      0.95      0.93      1637\n",
      "\n",
      "    accuracy                           0.93      3286\n",
      "   macro avg       0.93      0.93      0.93      3286\n",
      "weighted avg       0.93      0.93      0.93      3286\n",
      "\n",
      "\n",
      "confusion Matrix                             :\n",
      " [[1511  138]\n",
      " [  79 1558]]\n"
     ]
    },
    {
     "data": {
      "image/png": "[encoded data removed]",
      "text/plain": [
       "<Figure size 640x480 with 2 Axes>"
      ]
     },
     "metadata": {},
     "output_type": "display_data"
    },
    {
     "data": {
      "image/png": "[encoded data removed]",
      "text/plain": [
       "<Figure size 800x600 with 1 Axes>"
      ]
     },
     "metadata": {},
     "output_type": "display_data"
    }
   ],
   "source": [
    "print('\\nAccuracy Score for the XGB Classifier Model  : ',accuracy_score(y_test_resample,rf_prediction_resampled))\n",
    "print('\\nPrecision Score for the XGB Classifier Model : ',precision_score(y_test_resample,rf_prediction_resampled))\n",
    "print('\\nRecall Score for the XGB Classifier Model    : ',recall_score(y_test_resample,rf_prediction_resampled))\n",
    "print('\\nF1 score for the XGB Classifier Model        : ',f1_score(y_test_resample,rf_prediction_resampled))\n",
    "print('\\nClassification Report                        :\\n', classification_report(y_test_resample,rf_prediction_resampled))\n",
    "print('\\nconfusion Matrix                             :\\n',confusion_matrix(y_test_resample,rf_prediction_resampled))\n",
    "\n",
    "sns.heatmap(confusion_matrix(y_test_resample,rf_prediction_resampled),annot=True)\n",
    "from sklearn.metrics import roc_auc_score, roc_curve\n",
    "import matplotlib.pyplot as plt\n",
    "auc = roc_auc_score(y_test_resample, rf_prob[:, 1])\n",
    "\n",
    "# Calculate ROC curve\n",
    "fpr, tpr, thresholds = roc_curve(y_test_resample, rf_prob[:, 1])\n",
    "\n",
    "# Plot ROC curve\n",
    "plt.figure(figsize=(8, 6))\n",
    "plt.plot(fpr, tpr, color='blue', lw=2, label='ROC curve (AUC = {:.2f})'.format(auc))\n",
    "plt.plot([0, 1], [0, 1], color='gray', linestyle='--')\n",
    "plt.xlim([0.0, 1.0])\n",
    "plt.ylim([0.0, 1.05])\n",
    "plt.xlabel('False Positive Rate')\n",
    "plt.ylabel('True Positive Rate')\n",
    "plt.title('Receiver Operating Characteristic (ROC) Curve')\n",
    "plt.legend(loc='lower right')\n",
    "plt.show()"
   ]
  },
  {
   "cell_type": "markdown",
   "id": "8621cce2",
   "metadata": {},
   "source": [
    "### 2. Describe your fraud detection model in elaboration. \n",
    "\n",
    "The fraud detection model is designed to accurately identify fraudulent transactions while minimizing false positives and maintaining efficiency in processing large volumes of data. Here's an elaboration of the model:\n",
    "\n",
    "#### Data Preprocessing:\n",
    "Impoting Dependencies: \n",
    "The model begins by importing essential Python packages, modules, and libraries required for subsequent operations.\n",
    "\n",
    "Data Analysis: \n",
    "A thorough analysis of the dataset is conducted, including an overview of its size, shape, data types, missing values, and duplicate entries. Insights into feature distributions and transaction types are gleaned through exploratory data analysis (EDA).\n",
    "\n",
    "Missing Value Handling : \n",
    "No missing values are observed in the dataset, ensuring data completeness.\n",
    "\n",
    "Duplicate values : \n",
    "Duplicate Values: Duplicate values are absent in the dataset, ensuring data integrity.\n",
    "\n",
    "Exploratory Data Analysis:\n",
    "Identifying Unique Categories in Each column. Counting Total number of unique values in each column \n",
    "Percentages of the types of transaction in type column features which is the important factor in transactions.\n",
    "\n",
    "#### Exploratory Data Analysis (EDA):\n",
    "\n",
    "Identifying Unique Categories: The model identifies unique categories within each column and calculates the total number of unique values in each feature.\n",
    "Transaction Type Distribution: A detailed examination of transaction types and their percentages provides insights into the dataset's composition.\n",
    "Data Visualization: Visualization techniques, such as value counts and histograms, are employed to gain further insights into feature categories and distributions.\n",
    "\n",
    "#### Data Cleaning:\n",
    "Removing Unnecessary Columns : \n",
    "Irrelevant columns are removed to streamline the dataset.\n",
    "Correlation Matrix : \n",
    "Checking Feature Importance and relation using correlation Matrix Taking Relevent Datapoints Raws from observations\n",
    "Handling Multicollinearity: Address multicollinearity by performing Correlation Matrix techniques identify redundant features.\n",
    "Feature Engineering: \n",
    "Extract relevant features from the dataset, such as transaction amounts, timestamps, account balances, Originator account type, destination account type. and transaction types. Create additional features, such as error_balance_orig and error_balance_dest, to capture inconsistencies in account balances before and after transactions.\n",
    "\n",
    "#### Model Selection:\n",
    "Algorithm Selection: Robust algorithms, such as decision trees, random forests, and XGBoost classifiers, are chosen for their resilience to outliers and class imbalance.\n",
    "Logistic Regression : \n",
    "The logistic Regression model not perform well it is biased along with positive class can predict non_fraud class accurately because there is some issue with out data i.e. imbalanced dataset\n",
    "Tree-based algorithms (e.g., Decision Tree, Random Forest, Gradient Boosting): These algorithms handle non-linear relationships and are robust to outliers.\n",
    "Decision tree perform well on the data with highest accuracy with precision and f1 score 0.99 for both \n",
    "Xgb classifier performs best on the model like decision tree with high accuracy precision recall \n",
    "So we select the XGB classifier for our model training testing and evaluation and our work of detection of fraud.\n",
    "For we that we perform hyperparameter tuning with fewer parameter because of the computational capacity is no sufficient for the size of the data \n",
    "Neural Networks: I can’t use this techniques because of the computional resources limitations for the large size of data almost 650K rows datapoints \n",
    "\n",
    "#### Model Training:\n",
    "Training Process: The chosen algorithms are trained on the training dataset while adjusting hyperparameters to achieve optimal performance.\n",
    "Evaluate model performance using appropriate metrics such as precision, recall, F1-score, and area under the receiver operating characteristic (ROC) curve.\n",
    "\n",
    "#### Model Evaluation and Validation:\n",
    "Hyperparameter Tuning: The selected algorithm XGBoost Classifier  is fine-tuned using GridSearchCV and  cross-validation techniques to optimize performance and reduce Overfitting. \n",
    "Performance Evaluation: The model's effectiveness is evaluated using metrics such as precision, recall, F1-score, and area under the ROC curve.\n",
    "Validation: The model's performance is validated on a separate Testing data to ensure its ability to generalize to unseen data.\n",
    "\n",
    "#### Another Approach:\n",
    "\"We opted to address the class imbalance issue by employing random under sampling, a technique where the majority class instances are randomly subsampled to match the number of instances in the minority class. Following this preprocessing step, we applied the Random Forest Classifier algorithm to the balanced dataset. This approach yielded promising results, demonstrating high accuracy in our classification task.\"\n",
    "\n",
    "#### Conclusion:\n",
    "\n",
    "Overall Assessment: The fraud detection model represents a comprehensive system equipped with advanced techniques in data preprocessing, model selection, training, evaluation, and validation.\n",
    "Effective Fraud Detection: The model demonstrates high accuracy in identifying fraudulent transactions while minimizing false positives and maintaining operational efficiency.\n",
    "By following this structured approach, the fraud detection model is poised to effectively combat fraudulent activities while optimizing performance and resource utilization.\n"
   ]
  },
  {
   "cell_type": "markdown",
   "id": "70e4eebb",
   "metadata": {},
   "source": [
    "### 3. How did you select variables to be included in the model?\n",
    "Selecting the most impactful variables or features significantly enhances decision-making strategies for fraud detection in customer transactions. The following features have been identified as crucial indicators:\n",
    "\n",
    "Step (Timestamp): The timestamp of each transaction provides temporal information, allowing for analysis of patterns related to the occurrence of fraudulent transactions over time. Understanding the timing of fraudulent activity aids in developing proactive detection measures.\n",
    "\n",
    "Amount: Transaction amount plays a pivotal role in distinguishing between fraudulent and genuine transactions. Unusually large or small transaction amounts often signal fraudulent behavior and are thus vital for accurate fraud detection.\n",
    "\n",
    "Destination Account Type: Differentiating between destination account types, specifically distinguishing between customer-to-customer and customer-to-merchant transactions, is instrumental in identifying potential fraudulent activity. Transactions involving customer accounts, particularly those with other customers or merchants, often exhibit higher risks of fraud.\n",
    "\n",
    "Balances Variables of Originator and Destination Accounts: Monitoring the balances of both originator and destination accounts before and after transactions provides valuable insight into transaction legitimacy. Discrepancies or abnormalities in account balances can indicate potential fraudulent transactions and are therefore essential features for inclusion in the fraud detection model.\n",
    "\n",
    "Error Balance Variables: Observing inconsistencies and unverified changes in balances after transactions further strengthens the fraud detection mechanism. Introducing features such as \"error_balance_orig\" and \"error_balance_dest\" allows for the identification of transactions exhibiting irregularities in balance changes, thus enhancing the ability to detect fraudulent activities effectively.\n",
    "\n",
    "By incorporating these key features into the model-building process, financial institutions can improve their fraud detection capabilities and make more informed decisions regarding the authenticity of customer transactions. These features provide valuable insights into transactional behavior and account activity, enabling proactive measures to mitigate the risks associated with fraudulent activities."
   ]
  },
  {
   "cell_type": "markdown",
   "id": "f38c1dd8",
   "metadata": {
    "ExecuteTime": {
     "end_time": "2024-02-21T14:42:59.791601Z",
     "start_time": "2024-02-21T14:42:59.778287Z"
    }
   },
   "source": [
    "### 4. Demonstrate the performance of the model by using best set of tools. \n",
    "To demonstrate the performance of the fraud detection model using the best set of tools, i follow these steps:\n",
    "\n",
    "Selection Evaluation Metrics: Used appropriate evaluation metrics for assessing the model's performance. For fraud detection, common metrics include accuracy, precision, recall, F1-score, and area under the ROC curve (AUC-ROC).\n",
    "\n",
    "Preparing Test Data: Split dataset into training and testing sets. Used the training set to train the model and the testing set to evaluate its performance. Ensured that both sets represent the underlying distribution of fraudulent and non-fraudulent transactions.\n",
    "\n",
    "Training the Model: Utilizin the best-performing model obtained from experiments. This is a result of hyperparameter tuning or selecting the best-performing algorithm based on cross-validation results.\n",
    "\n",
    "Evaluation the Model: Applying the trained model to the test data and compute the chosen evaluation metrics. This step provides insights into how well the model generalizes to unseen data and its effectiveness in detecting fraudulent transactions.\n",
    "\n",
    "Visualizing Results: Visualizing the model's performance using appropriate tools such as confusion matrices, ROC curves, precision-recall curves of predicted probabilities. These visualizations provide a comprehensive understanding of the model's behavior across different thresholds.\n",
    "\n",
    "Interpretation and Analysis: Interpret the evaluation metrics and visualizations to assess the model's strengths and weaknesses. Identify areas where the model performs well and areas for improvement. This analysis guides further iterations or enhancements to the model."
   ]
  },
  {
   "cell_type": "markdown",
   "id": "97d53d5b",
   "metadata": {
    "ExecuteTime": {
     "end_time": "2024-02-20T17:54:46.329343Z",
     "start_time": "2024-02-20T17:54:46.301752Z"
    }
   },
   "source": [
    "### 5. What are the key factors that predict the fraudulent customers?\n",
    "The key factors predicting fraudulent customers, several considerations need to be addressed are following:\n",
    "\n",
    "Transaction Types:\n",
    "Analyzing transaction types is crucial, as certain types may exhibit higher rates of fraudulent activity. In many cases, transactions categorized as \"TRANSFER\" and \"CASH_OUT\" tend to involve fraudulent behavior. Therefore, focusing on these transaction types could provide valuable insights for identifying fraudulent customers. Other transaction types may not typically exhibit fraudulent patterns, so they may not be as relevant for predictive modeling.\n",
    "\n",
    "Amounts:\n",
    "The transaction amount plays a significant role in detecting fraudulent behavior. Unusually large or small transaction amounts may indicate fraudulent activity. Establishing thresholds or ranges for transaction amounts can help flag transactions that deviate from typical patterns, thereby assisting in the identification of potential fraud.\n",
    "\n",
    "Balances in Originator and Destination Accounts:\n",
    "Examining the balances in both the originator and destination accounts before and after the transaction provides valuable context for assessing transaction legitimacy. Sudden, substantial changes in account balances following a transaction may raise suspicions of fraudulent activity. Comparing pre- and post-transaction balances allows for the detection of anomalous behavior that may signal fraudulent transactions.\n",
    "\n",
    "the key factors for predicting fraudulent customers involve analyzing transaction types, amounts, and the pre- and post-transaction balances in originator and destination accounts. By focusing on these factors and incorporating them into predictive modeling techniques, financial institutions can enhance their ability to detect and prevent fraudulent activities effectively."
   ]
  },
  {
   "cell_type": "markdown",
   "id": "5979ca4e",
   "metadata": {},
   "source": [
    "### 6. Do these factors make sense? If yes, How? If not, How not? \n",
    "Yes, these factors do make sense for predicting fraudulent customers. Here's why:\n",
    "\n",
    "Transaction Types:\n",
    "Focusing on specific transaction types such as \"TRANSFER\" and \"CASH_OUT\" is logical because these types of transactions often involve the movement of funds between accounts, which can be indicative of fraudulent behavior. Fraudsters may exploit these transaction types to transfer funds illicitly or cash out stolen funds, making them key indicators for fraud detection.\n",
    "\n",
    "Amounts:\n",
    "Transaction amounts are important because fraudulent transactions often involve unusually large or small amounts compared to legitimate transactions. By setting thresholds or ranges for transaction amounts, financial institutions can flag transactions that fall outside these norms for further investigation. This helps in identifying potential fraudulent activity based on the magnitude of the transaction.\n",
    "\n",
    "Balances in Originator and Destination Accounts:\n",
    "Monitoring changes in account balances before and after transactions allows for the detection of suspicious patterns. Fraudulent transactions may result in significant alterations to account balances, such as sudden depletion or substantial increases in funds. By comparing pre- and post-transaction balances, anomalies can be identified, leading to the detection of potential fraud.\n",
    "\n",
    "In conclusion, these factors make sense for predicting fraudulent customers because they provide valuable insights into transactional behavior and account activity, which are commonly exploited by fraudsters. Analyzing transaction types, amounts, and account balances enables financial institutions to implement effective fraud detection measures and mitigate potential risks associated with fraudulent activities."
   ]
  },
  {
   "cell_type": "markdown",
   "id": "7e8f599f",
   "metadata": {},
   "source": [
    "### 7. What kind of prevention should be adopted while company update its infrastructure? for decrease in fraudulent transaction and detecting fraudulent transaction\n",
    "\n",
    "\n",
    "When a company updates its infrastructure, especially in the context of financial transactions, it's crucial to implement robust prevention measures to decrease fraudulent transactions and enhance fraud detection capabilities. Here are some key prevention strategies:\n",
    "\n",
    "Encryption and Secure Communication: Ensure that all communication channels, including data transmission between systems and with customers, are encrypted using strong cryptographic protocols. This prevents interception and tampering of sensitive information by unauthorized parties.\n",
    "\n",
    "Multi-Factor Authentication (MFA): Implement MFA for user authentication, requiring users to provide multiple forms of verification such as passwords, biometrics, or security tokens. This adds an extra layer of security and makes it harder for fraudsters to gain unauthorized access to accounts or systems.\n",
    "\n",
    "Real-Time Monitoring and Alerts: Utilize advanced monitoring systems to track transactions in real-time and set up alerts for suspicious activities, such as large or unusual transactions, multiple failed login attempts, or deviations from typical customer behavior. Prompt notification of potential fraud enables immediate action to mitigate risks.\n",
    "\n",
    "Machine Learning and AI-Based Fraud Detection: Deploy machine learning and artificial intelligence algorithms to analyze transaction data and identify patterns indicative of fraudulent behavior. These advanced analytics can detect anomalies, detect emerging fraud trends, and adapt to evolving fraud tactics more effectively than traditional rule-based systems.\n",
    "\n",
    "Regular Security Audits and Penetration Testing: Conduct regular security audits and penetration testing to identify vulnerabilities in the updated infrastructure. Address any weaknesses promptly and continuously assess the effectiveness of security controls to stay ahead of potential threats.\n",
    "\n",
    "Employee Training and Awareness Programs: Educate employees about the latest fraud schemes, cybersecurity best practices, and the importance of adhering to security protocols. Training programs should emphasize the role of employees in detecting and reporting suspicious activities to prevent fraud incidents.\n",
    "\n",
    "\n",
    "By implementing these prevention measures while updating its infrastructure, a company can significantly reduce the occurrence of fraudulent transactions and enhance its ability to detect and respond to fraud incidents effectively. These proactive steps help safeguard customer assets, preserve trust in the company's brand, and mitigate financial losses associated with fraudulent activities."
   ]
  },
  {
   "cell_type": "markdown",
   "id": "fe4bab09",
   "metadata": {},
   "source": [
    "### 8. Assuming these actions have been implemented, how would you determine if they work?\n",
    "\n",
    "Determining the effectiveness of the implemented fraud prevention measures involves ongoing monitoring, evaluation, and analysis of various performance indicators. Here's how you can assess whether the actions are working:\n",
    "\n",
    "Reduction in Fraudulent Transactions: Compare the number and value of fraudulent transactions before and after implementing the prevention measures. A decrease in fraudulent activity indicates that the measures are effective in deterring or detecting fraudulent behavior.\n",
    "\n",
    "False Positive Rates: Evaluate the rate of false positives, i.e., legitimate transactions incorrectly flagged as fraudulent. A decrease in false positives suggests that the prevention measures are accurately targeting suspicious activities without inconveniencing genuine customers.\n",
    "\n",
    "Detection Time: Measure the time it takes to detect and respond to fraudulent transactions. Shorter detection times indicate improved efficiency in identifying and mitigating fraud, minimizing the impact on customers and reducing potential losses.\n",
    "\n",
    "Customer Feedback: Gather feedback from customers regarding their experience with the updated security measures. Assess whether customers perceive the measures as effective, user-friendly, and non-intrusive. Positive feedback indicates that the measures strike a balance between security and convenience.\n",
    "\n",
    "Financial Impact: Analyze the financial impact of fraud prevention efforts, considering factors such as fraud-related losses, cost savings from fraud prevention, and revenue retention due to enhanced customer trust. A positive return on investment (ROI) suggests that the prevention measures are effective in protecting the company's assets and preserving its reputation.\n",
    "\n",
    "Compliance Adherence: Ensure ongoing compliance with regulatory requirements and industry standards for fraud prevention. Regular audits and assessments can verify that the implemented measures align with applicable laws and regulations, reducing legal and compliance risks.\n",
    "\n",
    "Benchmarking Against Industry Standards: Compare the company's fraud prevention performance metrics against industry benchmarks and best practices. Benchmarking helps identify areas for improvement and ensures that the company remains competitive in its fraud prevention efforts.\n",
    "\n",
    "Adaptation to Emerging Threats: Assess the ability of the prevention measures to adapt to evolving fraud tactics and emerging threats. Regular updates and enhancements to security protocols, algorithms, and detection mechanisms demonstrate the company's agility in responding to changing fraud landscape.\n",
    "\n",
    "By monitoring these key performance indicators and regularly evaluating the effectiveness of fraud prevention measures, companies can continuously optimize their strategies to stay ahead of fraudsters and safeguard their assets and reputation."
   ]
  },
  {
   "cell_type": "code",
   "execution_count": null,
   "id": "eca507e7",
   "metadata": {},
   "outputs": [],
   "source": []
  }
 ],
 "metadata": {
  "hide_input": false,
  "kernelspec": {
   "display_name": "Python 3 (ipykernel)",
   "language": "python",
   "name": "python3"
  },
  "language_info": {
   "codemirror_mode": {
    "name": "ipython",
    "version": 3
   },
   "file_extension": ".py",
   "mimetype": "text/x-python",
   "name": "python",
   "nbconvert_exporter": "python",
   "pygments_lexer": "ipython3",
   "version": "3.9.13"
  },
  "toc": {
   "base_numbering": 1,
   "nav_menu": {},
   "number_sections": true,
   "sideBar": true,
   "skip_h1_title": false,
   "title_cell": "Table of Contents",
   "title_sidebar": "Contents",
   "toc_cell": false,
   "toc_position": {
    "height": "calc(100% - 180px)",
    "left": "10px",
    "top": "150px",
    "width": "266.104px"
   },
   "toc_section_display": true,
   "toc_window_display": false
  },
  "varInspector": {
   "cols": {
    "lenName": 16,
    "lenType": 16,
    "lenVar": 40
   },
   "kernels_config": {
    "python": {
     "delete_cmd_postfix": "",
     "delete_cmd_prefix": "del ",
     "library": "var_list.py",
     "varRefreshCmd": "print(var_dic_list())"
    },
    "r": {
     "delete_cmd_postfix": ") ",
     "delete_cmd_prefix": "rm(",
     "library": "var_list.r",
     "varRefreshCmd": "cat(var_dic_list()) "
    }
   },
   "types_to_exclude": [
    "module",
    "function",
    "builtin_function_or_method",
    "instance",
    "_Feature"
   ],
   "window_display": false
  }
 },
 "nbformat": 4,
 "nbformat_minor": 5
}
